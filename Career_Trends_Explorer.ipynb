{
 "cells": [
  {
   "cell_type": "markdown",
   "id": "b0e27b7c-a674-4c14-af69-2a9a953632d0",
   "metadata": {},
   "source": [
    "# Objective\n",
    "\n",
    "The project aims to provide a deep understanding of workforce trends and deliver a personalized job recommendation system. By analyzing job market data, the platform will identify high-demand roles, uncover salary patterns, highlight emerging job categories, and provide job seekers with tailored opportunities that align with their preferences and market needs."
   ]
  },
  {
   "cell_type": "markdown",
   "id": "58a75e51-b11c-4aeb-bbf8-fee518693b71",
   "metadata": {},
   "source": [
    "## Situational Overview\n",
    "\n",
    "The job market is dynamic, influenced by technological disruptions, economic cycles, and evolving work preferences such as remote jobs. This project will leverage advanced data analytics and predictive modeling to uncover valuable insights, empowering both job seekers and recruiters to make informed, strategic decisions. By combining historical and live job posting data, the platform will act as a one-stop tool for career trends exploration and personalized job recommendations."
   ]
  },
  {
   "cell_type": "markdown",
   "id": "f38eca47-36eb-4ad8-870c-1c6c7ddc2242",
   "metadata": {},
   "source": [
    "# Load and Explore the Data"
   ]
  },
  {
   "cell_type": "code",
   "execution_count": 1,
   "id": "6e94e5ae-7b00-4394-9652-a0664d00a1e5",
   "metadata": {},
   "outputs": [],
   "source": [
    "#importing libraries\n",
    "import pandas as pd\n",
    "import numpy as np\n",
    "import matplotlib.pyplot as plt\n",
    "from sklearn.feature_extraction.text import CountVectorizer\n",
    "from sklearn.decomposition import TruncatedSVD\n",
    "from statsmodels.tsa.arima.model import ARIMA\n",
    "from sklearn.metrics import mean_squared_error"
   ]
  },
  {
   "cell_type": "code",
   "execution_count": 2,
   "id": "37e41d86-0051-4e65-98d0-984fabe6821c",
   "metadata": {},
   "outputs": [],
   "source": [
    "# Load the dataset\n",
    "\n",
    "upwork = \"C:/Users/vipin/OneDrive/Documents/Desktop/Project 8/all_upwork_jobs_2024-02-07-2024-03-24.csv\""
   ]
  },
  {
   "cell_type": "code",
   "execution_count": 3,
   "id": "df4f900e-fb1f-4b2c-a4f6-d096b59bdfe6",
   "metadata": {},
   "outputs": [
    {
     "data": {
      "text/html": [
       "<div>\n",
       "<style scoped>\n",
       "    .dataframe tbody tr th:only-of-type {\n",
       "        vertical-align: middle;\n",
       "    }\n",
       "\n",
       "    .dataframe tbody tr th {\n",
       "        vertical-align: top;\n",
       "    }\n",
       "\n",
       "    .dataframe thead th {\n",
       "        text-align: right;\n",
       "    }\n",
       "</style>\n",
       "<table border=\"1\" class=\"dataframe\">\n",
       "  <thead>\n",
       "    <tr style=\"text-align: right;\">\n",
       "      <th></th>\n",
       "      <th>title</th>\n",
       "      <th>link</th>\n",
       "      <th>published_date</th>\n",
       "      <th>is_hourly</th>\n",
       "      <th>hourly_low</th>\n",
       "      <th>hourly_high</th>\n",
       "      <th>budget</th>\n",
       "      <th>country</th>\n",
       "    </tr>\n",
       "  </thead>\n",
       "  <tbody>\n",
       "    <tr>\n",
       "      <th>0</th>\n",
       "      <td>Experienced Media Buyer For Solar Pannel and R...</td>\n",
       "      <td>https://www.upwork.com/jobs/Experienced-Media-...</td>\n",
       "      <td>2024-02-17 09:09:54+00:00</td>\n",
       "      <td>False</td>\n",
       "      <td>NaN</td>\n",
       "      <td>NaN</td>\n",
       "      <td>500.0</td>\n",
       "      <td>NaN</td>\n",
       "    </tr>\n",
       "    <tr>\n",
       "      <th>1</th>\n",
       "      <td>Full Stack Developer</td>\n",
       "      <td>https://www.upwork.com/jobs/Full-Stack-Develop...</td>\n",
       "      <td>2024-02-17 09:09:17+00:00</td>\n",
       "      <td>False</td>\n",
       "      <td>NaN</td>\n",
       "      <td>NaN</td>\n",
       "      <td>1100.0</td>\n",
       "      <td>United States</td>\n",
       "    </tr>\n",
       "    <tr>\n",
       "      <th>2</th>\n",
       "      <td>SMMA Bubble App</td>\n",
       "      <td>https://www.upwork.com/jobs/SMMA-Bubble-App_%7...</td>\n",
       "      <td>2024-02-17 09:08:46+00:00</td>\n",
       "      <td>True</td>\n",
       "      <td>10.0</td>\n",
       "      <td>30.0</td>\n",
       "      <td>NaN</td>\n",
       "      <td>United States</td>\n",
       "    </tr>\n",
       "    <tr>\n",
       "      <th>3</th>\n",
       "      <td>Talent Hunter Specialized in Marketing</td>\n",
       "      <td>https://www.upwork.com/jobs/Talent-Hunter-Spec...</td>\n",
       "      <td>2024-02-17 09:08:08+00:00</td>\n",
       "      <td>True</td>\n",
       "      <td>NaN</td>\n",
       "      <td>NaN</td>\n",
       "      <td>NaN</td>\n",
       "      <td>United States</td>\n",
       "    </tr>\n",
       "    <tr>\n",
       "      <th>4</th>\n",
       "      <td>Data Engineer</td>\n",
       "      <td>https://www.upwork.com/jobs/Data-Engineer_%7E0...</td>\n",
       "      <td>2024-02-17 09:07:42+00:00</td>\n",
       "      <td>False</td>\n",
       "      <td>NaN</td>\n",
       "      <td>NaN</td>\n",
       "      <td>650.0</td>\n",
       "      <td>India</td>\n",
       "    </tr>\n",
       "    <tr>\n",
       "      <th>...</th>\n",
       "      <td>...</td>\n",
       "      <td>...</td>\n",
       "      <td>...</td>\n",
       "      <td>...</td>\n",
       "      <td>...</td>\n",
       "      <td>...</td>\n",
       "      <td>...</td>\n",
       "      <td>...</td>\n",
       "    </tr>\n",
       "    <tr>\n",
       "      <th>244823</th>\n",
       "      <td>Need Facebook advertising experts to launch pr...</td>\n",
       "      <td>https://www.upwork.com/jobs/Need-Facebook-adve...</td>\n",
       "      <td>2024-03-24 13:28:38+00:00</td>\n",
       "      <td>True</td>\n",
       "      <td>20.0</td>\n",
       "      <td>100.0</td>\n",
       "      <td>NaN</td>\n",
       "      <td>Zambia</td>\n",
       "    </tr>\n",
       "    <tr>\n",
       "      <th>244824</th>\n",
       "      <td>Digital/Telemarketing/Sales/OutSide Sales</td>\n",
       "      <td>https://www.upwork.com/jobs/Digital-Telemarket...</td>\n",
       "      <td>2024-03-24 13:40:52+00:00</td>\n",
       "      <td>False</td>\n",
       "      <td>NaN</td>\n",
       "      <td>NaN</td>\n",
       "      <td>100.0</td>\n",
       "      <td>Sri Lanka</td>\n",
       "    </tr>\n",
       "    <tr>\n",
       "      <th>244825</th>\n",
       "      <td>WordPress Template Edits</td>\n",
       "      <td>https://www.upwork.com/jobs/WordPress-Template...</td>\n",
       "      <td>2024-03-24 13:37:50+00:00</td>\n",
       "      <td>True</td>\n",
       "      <td>5.0</td>\n",
       "      <td>30.0</td>\n",
       "      <td>NaN</td>\n",
       "      <td>United States</td>\n",
       "    </tr>\n",
       "    <tr>\n",
       "      <th>244826</th>\n",
       "      <td>ELEMENTOR PRO For quick fix (Wordpress)</td>\n",
       "      <td>https://www.upwork.com/jobs/ELEMENTOR-PRO-For-...</td>\n",
       "      <td>2024-03-24 13:52:15+00:00</td>\n",
       "      <td>False</td>\n",
       "      <td>NaN</td>\n",
       "      <td>NaN</td>\n",
       "      <td>15.0</td>\n",
       "      <td>France</td>\n",
       "    </tr>\n",
       "    <tr>\n",
       "      <th>244827</th>\n",
       "      <td>Creating a UGC Ad for Our Mobile Game</td>\n",
       "      <td>https://www.upwork.com/jobs/Creating-UGC-for-O...</td>\n",
       "      <td>2024-03-24 13:53:00+00:00</td>\n",
       "      <td>False</td>\n",
       "      <td>NaN</td>\n",
       "      <td>NaN</td>\n",
       "      <td>50.0</td>\n",
       "      <td>Israel</td>\n",
       "    </tr>\n",
       "  </tbody>\n",
       "</table>\n",
       "<p>244828 rows × 8 columns</p>\n",
       "</div>"
      ],
      "text/plain": [
       "                                                    title  \\\n",
       "0       Experienced Media Buyer For Solar Pannel and R...   \n",
       "1                                    Full Stack Developer   \n",
       "2                                         SMMA Bubble App   \n",
       "3                  Talent Hunter Specialized in Marketing   \n",
       "4                                           Data Engineer   \n",
       "...                                                   ...   \n",
       "244823  Need Facebook advertising experts to launch pr...   \n",
       "244824          Digital/Telemarketing/Sales/OutSide Sales   \n",
       "244825                           WordPress Template Edits   \n",
       "244826            ELEMENTOR PRO For quick fix (Wordpress)   \n",
       "244827              Creating a UGC Ad for Our Mobile Game   \n",
       "\n",
       "                                                     link  \\\n",
       "0       https://www.upwork.com/jobs/Experienced-Media-...   \n",
       "1       https://www.upwork.com/jobs/Full-Stack-Develop...   \n",
       "2       https://www.upwork.com/jobs/SMMA-Bubble-App_%7...   \n",
       "3       https://www.upwork.com/jobs/Talent-Hunter-Spec...   \n",
       "4       https://www.upwork.com/jobs/Data-Engineer_%7E0...   \n",
       "...                                                   ...   \n",
       "244823  https://www.upwork.com/jobs/Need-Facebook-adve...   \n",
       "244824  https://www.upwork.com/jobs/Digital-Telemarket...   \n",
       "244825  https://www.upwork.com/jobs/WordPress-Template...   \n",
       "244826  https://www.upwork.com/jobs/ELEMENTOR-PRO-For-...   \n",
       "244827  https://www.upwork.com/jobs/Creating-UGC-for-O...   \n",
       "\n",
       "                   published_date  is_hourly  hourly_low  hourly_high  budget  \\\n",
       "0       2024-02-17 09:09:54+00:00      False         NaN          NaN   500.0   \n",
       "1       2024-02-17 09:09:17+00:00      False         NaN          NaN  1100.0   \n",
       "2       2024-02-17 09:08:46+00:00       True        10.0         30.0     NaN   \n",
       "3       2024-02-17 09:08:08+00:00       True         NaN          NaN     NaN   \n",
       "4       2024-02-17 09:07:42+00:00      False         NaN          NaN   650.0   \n",
       "...                           ...        ...         ...          ...     ...   \n",
       "244823  2024-03-24 13:28:38+00:00       True        20.0        100.0     NaN   \n",
       "244824  2024-03-24 13:40:52+00:00      False         NaN          NaN   100.0   \n",
       "244825  2024-03-24 13:37:50+00:00       True         5.0         30.0     NaN   \n",
       "244826  2024-03-24 13:52:15+00:00      False         NaN          NaN    15.0   \n",
       "244827  2024-03-24 13:53:00+00:00      False         NaN          NaN    50.0   \n",
       "\n",
       "              country  \n",
       "0                 NaN  \n",
       "1       United States  \n",
       "2       United States  \n",
       "3       United States  \n",
       "4               India  \n",
       "...               ...  \n",
       "244823         Zambia  \n",
       "244824      Sri Lanka  \n",
       "244825  United States  \n",
       "244826         France  \n",
       "244827         Israel  \n",
       "\n",
       "[244828 rows x 8 columns]"
      ]
     },
     "execution_count": 3,
     "metadata": {},
     "output_type": "execute_result"
    }
   ],
   "source": [
    "jobs = pd.read_csv(upwork)\n",
    "jobs"
   ]
  },
  {
   "cell_type": "markdown",
   "id": "191d931b-d204-4121-aed4-6237e1f72e72",
   "metadata": {},
   "source": [
    "# Concise summarization of total information provided by the data"
   ]
  },
  {
   "cell_type": "code",
   "execution_count": 4,
   "id": "ba979765-1100-4a9e-a284-be3bbf89a267",
   "metadata": {},
   "outputs": [
    {
     "name": "stdout",
     "output_type": "stream",
     "text": [
      "Dataset Shape: (244828, 8)\n"
     ]
    }
   ],
   "source": [
    "print(\"Dataset Shape:\", jobs.shape)"
   ]
  },
  {
   "cell_type": "code",
   "execution_count": 5,
   "id": "bf9f74b9-cca5-40aa-b350-b4557a93bd0a",
   "metadata": {},
   "outputs": [
    {
     "name": "stdout",
     "output_type": "stream",
     "text": [
      "<class 'pandas.core.frame.DataFrame'>\n",
      "RangeIndex: 244828 entries, 0 to 244827\n",
      "Data columns (total 8 columns):\n",
      " #   Column          Non-Null Count   Dtype  \n",
      "---  ------          --------------   -----  \n",
      " 0   title           244827 non-null  object \n",
      " 1   link            244827 non-null  object \n",
      " 2   published_date  244828 non-null  object \n",
      " 3   is_hourly       244828 non-null  bool   \n",
      " 4   hourly_low      102422 non-null  float64\n",
      " 5   hourly_high     98775 non-null   float64\n",
      " 6   budget          103891 non-null  float64\n",
      " 7   country         239751 non-null  object \n",
      "dtypes: bool(1), float64(3), object(4)\n",
      "memory usage: 13.3+ MB\n"
     ]
    }
   ],
   "source": [
    "jobs.info()"
   ]
  },
  {
   "cell_type": "code",
   "execution_count": 6,
   "id": "7541c954-fbf2-4c6e-af38-964fd09a38f7",
   "metadata": {},
   "outputs": [
    {
     "data": {
      "text/html": [
       "<div>\n",
       "<style scoped>\n",
       "    .dataframe tbody tr th:only-of-type {\n",
       "        vertical-align: middle;\n",
       "    }\n",
       "\n",
       "    .dataframe tbody tr th {\n",
       "        vertical-align: top;\n",
       "    }\n",
       "\n",
       "    .dataframe thead th {\n",
       "        text-align: right;\n",
       "    }\n",
       "</style>\n",
       "<table border=\"1\" class=\"dataframe\">\n",
       "  <thead>\n",
       "    <tr style=\"text-align: right;\">\n",
       "      <th></th>\n",
       "      <th>title</th>\n",
       "      <th>link</th>\n",
       "      <th>published_date</th>\n",
       "      <th>is_hourly</th>\n",
       "      <th>hourly_low</th>\n",
       "      <th>hourly_high</th>\n",
       "      <th>budget</th>\n",
       "      <th>country</th>\n",
       "    </tr>\n",
       "  </thead>\n",
       "  <tbody>\n",
       "    <tr>\n",
       "      <th>0</th>\n",
       "      <td>Experienced Media Buyer For Solar Pannel and R...</td>\n",
       "      <td>https://www.upwork.com/jobs/Experienced-Media-...</td>\n",
       "      <td>2024-02-17 09:09:54+00:00</td>\n",
       "      <td>False</td>\n",
       "      <td>NaN</td>\n",
       "      <td>NaN</td>\n",
       "      <td>500.0</td>\n",
       "      <td>NaN</td>\n",
       "    </tr>\n",
       "    <tr>\n",
       "      <th>1</th>\n",
       "      <td>Full Stack Developer</td>\n",
       "      <td>https://www.upwork.com/jobs/Full-Stack-Develop...</td>\n",
       "      <td>2024-02-17 09:09:17+00:00</td>\n",
       "      <td>False</td>\n",
       "      <td>NaN</td>\n",
       "      <td>NaN</td>\n",
       "      <td>1100.0</td>\n",
       "      <td>United States</td>\n",
       "    </tr>\n",
       "    <tr>\n",
       "      <th>2</th>\n",
       "      <td>SMMA Bubble App</td>\n",
       "      <td>https://www.upwork.com/jobs/SMMA-Bubble-App_%7...</td>\n",
       "      <td>2024-02-17 09:08:46+00:00</td>\n",
       "      <td>True</td>\n",
       "      <td>10.0</td>\n",
       "      <td>30.0</td>\n",
       "      <td>NaN</td>\n",
       "      <td>United States</td>\n",
       "    </tr>\n",
       "    <tr>\n",
       "      <th>3</th>\n",
       "      <td>Talent Hunter Specialized in Marketing</td>\n",
       "      <td>https://www.upwork.com/jobs/Talent-Hunter-Spec...</td>\n",
       "      <td>2024-02-17 09:08:08+00:00</td>\n",
       "      <td>True</td>\n",
       "      <td>NaN</td>\n",
       "      <td>NaN</td>\n",
       "      <td>NaN</td>\n",
       "      <td>United States</td>\n",
       "    </tr>\n",
       "    <tr>\n",
       "      <th>4</th>\n",
       "      <td>Data Engineer</td>\n",
       "      <td>https://www.upwork.com/jobs/Data-Engineer_%7E0...</td>\n",
       "      <td>2024-02-17 09:07:42+00:00</td>\n",
       "      <td>False</td>\n",
       "      <td>NaN</td>\n",
       "      <td>NaN</td>\n",
       "      <td>650.0</td>\n",
       "      <td>India</td>\n",
       "    </tr>\n",
       "    <tr>\n",
       "      <th>5</th>\n",
       "      <td>SEO for Portuguese Psychologist site</td>\n",
       "      <td>https://www.upwork.com/jobs/SEO-for-Portuguese...</td>\n",
       "      <td>2024-02-17 09:07:41+00:00</td>\n",
       "      <td>True</td>\n",
       "      <td>NaN</td>\n",
       "      <td>NaN</td>\n",
       "      <td>NaN</td>\n",
       "      <td>Portugal</td>\n",
       "    </tr>\n",
       "    <tr>\n",
       "      <th>6</th>\n",
       "      <td>Want to fix the WordPress Plugin</td>\n",
       "      <td>https://www.upwork.com/jobs/Want-fix-the-WordP...</td>\n",
       "      <td>2024-02-17 09:07:27+00:00</td>\n",
       "      <td>False</td>\n",
       "      <td>NaN</td>\n",
       "      <td>NaN</td>\n",
       "      <td>5.0</td>\n",
       "      <td>India</td>\n",
       "    </tr>\n",
       "    <tr>\n",
       "      <th>7</th>\n",
       "      <td>need Portuguese writers who can understand and...</td>\n",
       "      <td>https://www.upwork.com/jobs/need-Portuguese-wr...</td>\n",
       "      <td>2024-02-17 09:07:05+00:00</td>\n",
       "      <td>True</td>\n",
       "      <td>7.0</td>\n",
       "      <td>22.0</td>\n",
       "      <td>NaN</td>\n",
       "      <td>India</td>\n",
       "    </tr>\n",
       "    <tr>\n",
       "      <th>8</th>\n",
       "      <td>Looker Studio Dashboard for Leadgen and E-Comm...</td>\n",
       "      <td>https://www.upwork.com/jobs/Looker-Studio-Dash...</td>\n",
       "      <td>2024-02-17 09:06:24+00:00</td>\n",
       "      <td>True</td>\n",
       "      <td>NaN</td>\n",
       "      <td>NaN</td>\n",
       "      <td>NaN</td>\n",
       "      <td>Germany</td>\n",
       "    </tr>\n",
       "    <tr>\n",
       "      <th>9</th>\n",
       "      <td>PHP/HTML/CSS WordPress Developer Needed for We...</td>\n",
       "      <td>https://www.upwork.com/jobs/PHP-HTML-CSS-WordP...</td>\n",
       "      <td>2024-02-17 09:06:21+00:00</td>\n",
       "      <td>False</td>\n",
       "      <td>NaN</td>\n",
       "      <td>NaN</td>\n",
       "      <td>500.0</td>\n",
       "      <td>Canada</td>\n",
       "    </tr>\n",
       "  </tbody>\n",
       "</table>\n",
       "</div>"
      ],
      "text/plain": [
       "                                               title  \\\n",
       "0  Experienced Media Buyer For Solar Pannel and R...   \n",
       "1                               Full Stack Developer   \n",
       "2                                    SMMA Bubble App   \n",
       "3             Talent Hunter Specialized in Marketing   \n",
       "4                                      Data Engineer   \n",
       "5               SEO for Portuguese Psychologist site   \n",
       "6                   Want to fix the WordPress Plugin   \n",
       "7  need Portuguese writers who can understand and...   \n",
       "8  Looker Studio Dashboard for Leadgen and E-Comm...   \n",
       "9  PHP/HTML/CSS WordPress Developer Needed for We...   \n",
       "\n",
       "                                                link  \\\n",
       "0  https://www.upwork.com/jobs/Experienced-Media-...   \n",
       "1  https://www.upwork.com/jobs/Full-Stack-Develop...   \n",
       "2  https://www.upwork.com/jobs/SMMA-Bubble-App_%7...   \n",
       "3  https://www.upwork.com/jobs/Talent-Hunter-Spec...   \n",
       "4  https://www.upwork.com/jobs/Data-Engineer_%7E0...   \n",
       "5  https://www.upwork.com/jobs/SEO-for-Portuguese...   \n",
       "6  https://www.upwork.com/jobs/Want-fix-the-WordP...   \n",
       "7  https://www.upwork.com/jobs/need-Portuguese-wr...   \n",
       "8  https://www.upwork.com/jobs/Looker-Studio-Dash...   \n",
       "9  https://www.upwork.com/jobs/PHP-HTML-CSS-WordP...   \n",
       "\n",
       "              published_date  is_hourly  hourly_low  hourly_high  budget  \\\n",
       "0  2024-02-17 09:09:54+00:00      False         NaN          NaN   500.0   \n",
       "1  2024-02-17 09:09:17+00:00      False         NaN          NaN  1100.0   \n",
       "2  2024-02-17 09:08:46+00:00       True        10.0         30.0     NaN   \n",
       "3  2024-02-17 09:08:08+00:00       True         NaN          NaN     NaN   \n",
       "4  2024-02-17 09:07:42+00:00      False         NaN          NaN   650.0   \n",
       "5  2024-02-17 09:07:41+00:00       True         NaN          NaN     NaN   \n",
       "6  2024-02-17 09:07:27+00:00      False         NaN          NaN     5.0   \n",
       "7  2024-02-17 09:07:05+00:00       True         7.0         22.0     NaN   \n",
       "8  2024-02-17 09:06:24+00:00       True         NaN          NaN     NaN   \n",
       "9  2024-02-17 09:06:21+00:00      False         NaN          NaN   500.0   \n",
       "\n",
       "         country  \n",
       "0            NaN  \n",
       "1  United States  \n",
       "2  United States  \n",
       "3  United States  \n",
       "4          India  \n",
       "5       Portugal  \n",
       "6          India  \n",
       "7          India  \n",
       "8        Germany  \n",
       "9         Canada  "
      ]
     },
     "execution_count": 6,
     "metadata": {},
     "output_type": "execute_result"
    }
   ],
   "source": [
    "#Displaying first 10 rows of our data\n",
    "\n",
    "jobs.head(10)"
   ]
  },
  {
   "cell_type": "code",
   "execution_count": 7,
   "id": "ba7b85ad-683b-40be-be93-af821ffaceea",
   "metadata": {},
   "outputs": [
    {
     "data": {
      "text/plain": [
       "title             244827\n",
       "link              244827\n",
       "published_date    244828\n",
       "is_hourly         244828\n",
       "hourly_low        102422\n",
       "hourly_high        98775\n",
       "budget            103891\n",
       "country           239751\n",
       "dtype: int64"
      ]
     },
     "execution_count": 7,
     "metadata": {},
     "output_type": "execute_result"
    }
   ],
   "source": [
    "# counting no. of rows\n",
    "\n",
    "jobs.count()"
   ]
  },
  {
   "cell_type": "code",
   "execution_count": 8,
   "id": "5ee928b4-f8ed-4880-9a47-41d64c9d68f0",
   "metadata": {},
   "outputs": [
    {
     "data": {
      "text/plain": [
       "Index(['title', 'link', 'published_date', 'is_hourly', 'hourly_low',\n",
       "       'hourly_high', 'budget', 'country'],\n",
       "      dtype='object')"
      ]
     },
     "execution_count": 8,
     "metadata": {},
     "output_type": "execute_result"
    }
   ],
   "source": [
    "jobs.columns"
   ]
  },
  {
   "cell_type": "markdown",
   "id": "6a8124df-2b66-4a22-94e5-26a2af232270",
   "metadata": {},
   "source": [
    "# Clean and Preprocess the Data"
   ]
  },
  {
   "cell_type": "code",
   "execution_count": 9,
   "id": "6e200508-5aa1-44f8-865d-4f5ebfbbf3d3",
   "metadata": {},
   "outputs": [
    {
     "data": {
      "text/plain": [
       "title                  1\n",
       "link                   1\n",
       "published_date         0\n",
       "is_hourly              0\n",
       "hourly_low        142406\n",
       "hourly_high       146053\n",
       "budget            140937\n",
       "country             5077\n",
       "dtype: int64"
      ]
     },
     "execution_count": 9,
     "metadata": {},
     "output_type": "execute_result"
    }
   ],
   "source": [
    "jobs.isnull().sum()"
   ]
  },
  {
   "cell_type": "code",
   "execution_count": 10,
   "id": "f6404a4e-ed33-4992-bec5-39e1ba868f6b",
   "metadata": {},
   "outputs": [
    {
     "data": {
      "text/plain": [
       "title              0.000408\n",
       "link               0.000408\n",
       "published_date     0.000000\n",
       "is_hourly          0.000000\n",
       "hourly_low        58.165733\n",
       "hourly_high       59.655350\n",
       "budget            57.565720\n",
       "country            2.073701\n",
       "dtype: float64"
      ]
     },
     "execution_count": 10,
     "metadata": {},
     "output_type": "execute_result"
    }
   ],
   "source": [
    "missing_values = jobs.isnull().mean() * 100\n",
    "missing_values"
   ]
  },
  {
   "cell_type": "markdown",
   "id": "f42bccb6-2dee-4cd4-ae68-0345a0eb9120",
   "metadata": {},
   "source": [
    "## Insights\n",
    "\n",
    "1) title and link: These columns have negligible missing values, only about 0.04% of the data is missing.\n",
    "\n",
    "2) published_date and is_hourly: No missing values, as their missing percentage is 0%.\n",
    "\n",
    "3) hourly_low and hourly_high: These columns have significant missing data (around 58% and 59%, respectively), indicating that more than half of the data for hourly rates is missing.\n",
    "\n",
    "4) budget: Approximately 57.57% of the data in this column is missing, suggesting that a large portion of the budget information is not available.\n",
    "\n",
    "5) country: This column has relatively low missing data, about 2.07%, which is fairly manageable.\n",
    "\n",
    "Overall, the data has missing values mostly in the hourly_low, hourly_high, and budget columns. we need to handle these missing values, possibly by imputation or removal, depending on the analysis or modeling objectives."
   ]
  },
  {
   "cell_type": "code",
   "execution_count": 11,
   "id": "763bdf01-326b-44ac-bdcc-b362fc646b77",
   "metadata": {},
   "outputs": [],
   "source": [
    "# Fill missing values for categorical columns (like 'title', 'link') with 'Unknown' or 'Not Available'\n",
    "jobs['title'] = jobs['title'].fillna('Unknown')\n",
    "jobs['link'] = jobs['link'].fillna('Not Available')\n"
   ]
  },
  {
   "cell_type": "code",
   "execution_count": 12,
   "id": "2c4ae6e8-eb8d-45eb-bfd2-467b958dbeb8",
   "metadata": {},
   "outputs": [],
   "source": [
    "\n",
    "# Fill missing values for numerical columns like 'hourly_low', 'hourly_high', 'budget' with the median\n",
    "jobs['hourly_low'] = jobs['hourly_low'].fillna(jobs['hourly_low'].median())\n",
    "jobs['hourly_high'] = jobs['hourly_high'].fillna(jobs['hourly_high'].median()) \n",
    "jobs['budget'] = jobs['budget'].fillna(jobs['budget'].median())\n"
   ]
  },
  {
   "cell_type": "code",
   "execution_count": 13,
   "id": "f5a0c993-1992-4529-8898-6d126a4a1184",
   "metadata": {},
   "outputs": [],
   "source": [
    "jobs['country'] = jobs['country'].fillna('Unknown')"
   ]
  },
  {
   "cell_type": "code",
   "execution_count": 14,
   "id": "13722ece-6f8a-4d7b-91a5-e2da5d93e715",
   "metadata": {},
   "outputs": [],
   "source": [
    "# Data Preprocessing - Convert Dates\n",
    "jobs['published_date'] = pd.to_datetime(jobs['published_date'])"
   ]
  },
  {
   "cell_type": "code",
   "execution_count": 15,
   "id": "1b22a239-aad0-445c-a911-4566d196eee7",
   "metadata": {},
   "outputs": [
    {
     "name": "stdout",
     "output_type": "stream",
     "text": [
      "\n",
      "Missing Values After Cleaning:\n",
      "title             0\n",
      "link              0\n",
      "published_date    0\n",
      "is_hourly         0\n",
      "hourly_low        0\n",
      "hourly_high       0\n",
      "budget            0\n",
      "country           0\n",
      "dtype: int64\n"
     ]
    }
   ],
   "source": [
    "print(\"\\nMissing Values After Cleaning:\")\n",
    "print(jobs.isnull().sum())"
   ]
  },
  {
   "cell_type": "code",
   "execution_count": 16,
   "id": "a120fc85-6f13-4233-8943-d953a11e2200",
   "metadata": {},
   "outputs": [
    {
     "name": "stdout",
     "output_type": "stream",
     "text": [
      "\n",
      "Descriptive Statistics:\n",
      "          hourly_low    hourly_high          budget\n",
      "count  244828.000000  244828.000000   244828.000000\n",
      "mean       15.978773      34.829501      444.342967\n",
      "std        11.789481      30.955729    10254.421295\n",
      "min         3.000000       3.000000        5.000000\n",
      "25%        15.000000      30.000000      100.000000\n",
      "50%        15.000000      30.000000      100.000000\n",
      "75%        15.000000      30.000000      100.000000\n",
      "max       998.000000     999.000000  1000000.000000\n"
     ]
    }
   ],
   "source": [
    "print(\"\\nDescriptive Statistics:\")\n",
    "print(jobs.describe())"
   ]
  },
  {
   "cell_type": "markdown",
   "id": "8ea10854-c2e3-41aa-a6b2-a2c9b7014b50",
   "metadata": {},
   "source": [
    "hourly_low and hourly_high values have considerable variation, with extreme outliers as indicated by their high standard deviations and maximum values.\n",
    "\n",
    "budget also shows significant outliers with some extremely high values, even though most budgets are clustered around $100.\n",
    "\n",
    "Many of the values in all three columns (hourly rates and budget) seem to be concentrated around certain lower values like $Dollar 15 for hourly rates and $Dollar 100 for budget), but the presence of extreme outliers can skew the overall statistics (e.g., mean being much higher than the median)."
   ]
  },
  {
   "cell_type": "markdown",
   "id": "d1990b76-ed40-43d8-86de-1a640f8bc45f",
   "metadata": {},
   "source": [
    "# Task 1: Tokenizing Job Titles and Identifying Top Keywords"
   ]
  },
  {
   "cell_type": "raw",
   "id": "f2aaa637-3152-4a50-987a-7c5ff1173406",
   "metadata": {},
   "source": [
    "Tokenize job titles into individual keywords."
   ]
  },
  {
   "cell_type": "code",
   "execution_count": 17,
   "id": "518dca15-0107-4bda-bbed-49d4ba26e9b2",
   "metadata": {},
   "outputs": [],
   "source": [
    "vectorizer = CountVectorizer(stop_words='english')\n",
    "title_keywords = vectorizer.fit_transform(jobs['title'])"
   ]
  },
  {
   "cell_type": "code",
   "execution_count": 18,
   "id": "c7ea7d4a-865f-49ae-8df8-8fd8c092a70f",
   "metadata": {},
   "outputs": [],
   "source": [
    "svd = TruncatedSVD(n_components=10, random_state=42)\n",
    "reduced_matrix = svd.fit_transform(title_keywords)"
   ]
  },
  {
   "cell_type": "code",
   "execution_count": 19,
   "id": "0869345b-c123-412f-8646-cc3dea5768db",
   "metadata": {},
   "outputs": [],
   "source": [
    "keywords_df = pd.DataFrame(reduced_matrix)\n",
    "keywords_summary = keywords_df.sum(axis=0).sort_values(ascending=False)"
   ]
  },
  {
   "cell_type": "code",
   "execution_count": 20,
   "id": "d853d823-ee18-4c2f-9e10-6300703612cd",
   "metadata": {},
   "outputs": [
    {
     "name": "stdout",
     "output_type": "stream",
     "text": [
      "\n",
      "Top 10 Keywords in Job Titles:\n",
      "0    59132.027997\n",
      "8    10714.261405\n",
      "3     5521.544306\n",
      "9     2581.086393\n",
      "1     2189.478580\n",
      "2     2043.849900\n",
      "7      221.316915\n",
      "5     -384.720472\n",
      "4    -4487.316159\n",
      "6    -9133.276077\n",
      "dtype: float64\n"
     ]
    }
   ],
   "source": [
    "# Display Top 10 Keywords\n",
    "print(\"\\nTop 10 Keywords in Job Titles:\")\n",
    "print(keywords_summary.head(10))"
   ]
  },
  {
   "cell_type": "markdown",
   "id": "4219765f-bcc5-4e61-b660-e7ca356c43f7",
   "metadata": {},
   "source": [
    "# Task 2: Identifying Emerging Job Categories"
   ]
  },
  {
   "cell_type": "raw",
   "id": "1060886f-196c-4993-b649-12dc36a57fcd",
   "metadata": {},
   "source": [
    "Preprocess the Data for Job Categories and Dates"
   ]
  },
  {
   "cell_type": "code",
   "execution_count": 21,
   "id": "e22389db-99f3-40e5-bd5d-5ac056fb5202",
   "metadata": {},
   "outputs": [
    {
     "name": "stderr",
     "output_type": "stream",
     "text": [
      "C:\\Users\\vipin\\AppData\\Local\\Temp\\ipykernel_12160\\3397920720.py:1: UserWarning: Converting to PeriodArray/Index representation will drop timezone information.\n",
      "  category_trends = jobs.groupby(['title', jobs['published_date'].dt.to_period('M')]).size().reset_index(name='post_count')\n"
     ]
    }
   ],
   "source": [
    "category_trends = jobs.groupby(['title', jobs['published_date'].dt.to_period('M')]).size().reset_index(name='post_count')\n",
    "category_trends['published_date'] = category_trends['published_date'].dt.to_timestamp()"
   ]
  },
  {
   "cell_type": "markdown",
   "id": "5696c365-209a-4648-a2dc-1ba243500471",
   "metadata": {},
   "source": [
    "# Identify Emerging Categories"
   ]
  },
  {
   "cell_type": "code",
   "execution_count": 22,
   "id": "03445b14-957c-4dbf-8de8-0fbe707fbb66",
   "metadata": {},
   "outputs": [],
   "source": [
    "# Compute growth rates\n",
    "category_growth = category_trends.groupby('title')['post_count'].apply(\n",
    "    lambda x: (x.iloc[-1] - x.iloc[0]) / x.iloc[0] if len(x) > 1 else 0\n",
    ").sort_values(ascending=False)"
   ]
  },
  {
   "cell_type": "code",
   "execution_count": 23,
   "id": "d12b159d-3537-454b-b190-7892e0741294",
   "metadata": {},
   "outputs": [
    {
     "name": "stdout",
     "output_type": "stream",
     "text": [
      "\n",
      "Emerging Job Categories:\n",
      "title\n",
      "Virtual assistant                                             28.0\n",
      "Appointment Setter For Instagram                              23.0\n",
      "Social Media Management                                       21.0\n",
      "Need Turkish writers that can understand and write Turkish    20.0\n",
      "YouTube Growth Expert                                         15.0\n",
      "Real Estate Virtual Assistant                                 12.0\n",
      "Email Designer                                                10.0\n",
      "Virtual Executive Assistant                                    9.0\n",
      "UI/UX designer                                                 9.0\n",
      "Video editor for long term                                     9.0\n",
      "Name: post_count, dtype: float64\n"
     ]
    }
   ],
   "source": [
    "\n",
    "# Top 10 Emerging Categories\n",
    "emerging_categories = category_growth.head(10)\n",
    "print(\"\\nEmerging Job Categories:\")\n",
    "print(emerging_categories)"
   ]
  },
  {
   "cell_type": "markdown",
   "id": "d999e78e-40c5-4580-839b-3b906747bc68",
   "metadata": {},
   "source": [
    "# Visualize Trends for Emerging Categories"
   ]
  },
  {
   "cell_type": "code",
   "execution_count": 24,
   "id": "7df5bead-c402-4076-bdbd-1ea0080011f5",
   "metadata": {},
   "outputs": [
    {
     "data": {
      "image/png": "[encoded data removed]",
      "text/plain": [
       "<Figure size 1200x800 with 1 Axes>"
      ]
     },
     "metadata": {},
     "output_type": "display_data"
    }
   ],
   "source": [
    "# Filter data for emerging categories\n",
    "emerging_category_data = category_trends[category_trends['title'].isin(emerging_categories.index)]\n",
    "\n",
    "# Plot trends\n",
    "plt.figure(figsize=(12, 8))\n",
    "for category in emerging_categories.index:\n",
    "    category_data = emerging_category_data[emerging_category_data['title'] == category]\n",
    "    plt.plot(category_data['published_date'], category_data['post_count'], label=category)\n",
    "\n",
    "plt.xlabel('Date')\n",
    "plt.ylabel('Number of Postings')\n",
    "plt.title('Trends for Emerging Job Categories')\n",
    "plt.legend()\n",
    "plt.grid(True)\n",
    "plt.show()"
   ]
  },
  {
   "cell_type": "code",
   "execution_count": 25,
   "id": "e39cd7d1-c04f-456f-a6e9-4b60e9e61375",
   "metadata": {},
   "outputs": [
    {
     "data": {
      "text/html": [
       "<div>\n",
       "<style scoped>\n",
       "    .dataframe tbody tr th:only-of-type {\n",
       "        vertical-align: middle;\n",
       "    }\n",
       "\n",
       "    .dataframe tbody tr th {\n",
       "        vertical-align: top;\n",
       "    }\n",
       "\n",
       "    .dataframe thead th {\n",
       "        text-align: right;\n",
       "    }\n",
       "</style>\n",
       "<table border=\"1\" class=\"dataframe\">\n",
       "  <thead>\n",
       "    <tr style=\"text-align: right;\">\n",
       "      <th></th>\n",
       "      <th>title</th>\n",
       "      <th>published_date</th>\n",
       "      <th>post_count</th>\n",
       "    </tr>\n",
       "  </thead>\n",
       "  <tbody>\n",
       "    <tr>\n",
       "      <th>12823</th>\n",
       "      <td>Appointment Setter For Instagram</td>\n",
       "      <td>2024-02-01</td>\n",
       "      <td>1</td>\n",
       "    </tr>\n",
       "    <tr>\n",
       "      <th>12824</th>\n",
       "      <td>Appointment Setter For Instagram</td>\n",
       "      <td>2024-03-01</td>\n",
       "      <td>24</td>\n",
       "    </tr>\n",
       "    <tr>\n",
       "      <th>56064</th>\n",
       "      <td>Email Designer</td>\n",
       "      <td>2024-02-01</td>\n",
       "      <td>1</td>\n",
       "    </tr>\n",
       "    <tr>\n",
       "      <th>56065</th>\n",
       "      <td>Email Designer</td>\n",
       "      <td>2024-03-01</td>\n",
       "      <td>11</td>\n",
       "    </tr>\n",
       "    <tr>\n",
       "      <th>123186</th>\n",
       "      <td>Need Turkish writers that can understand and w...</td>\n",
       "      <td>2024-02-01</td>\n",
       "      <td>1</td>\n",
       "    </tr>\n",
       "    <tr>\n",
       "      <th>123187</th>\n",
       "      <td>Need Turkish writers that can understand and w...</td>\n",
       "      <td>2024-03-01</td>\n",
       "      <td>21</td>\n",
       "    </tr>\n",
       "    <tr>\n",
       "      <th>146667</th>\n",
       "      <td>Real Estate Virtual Assistant</td>\n",
       "      <td>2024-01-01</td>\n",
       "      <td>1</td>\n",
       "    </tr>\n",
       "    <tr>\n",
       "      <th>146668</th>\n",
       "      <td>Real Estate Virtual Assistant</td>\n",
       "      <td>2024-02-01</td>\n",
       "      <td>11</td>\n",
       "    </tr>\n",
       "    <tr>\n",
       "      <th>146669</th>\n",
       "      <td>Real Estate Virtual Assistant</td>\n",
       "      <td>2024-03-01</td>\n",
       "      <td>13</td>\n",
       "    </tr>\n",
       "    <tr>\n",
       "      <th>168889</th>\n",
       "      <td>Social Media Management</td>\n",
       "      <td>2024-01-01</td>\n",
       "      <td>1</td>\n",
       "    </tr>\n",
       "  </tbody>\n",
       "</table>\n",
       "</div>"
      ],
      "text/plain": [
       "                                                    title published_date  \\\n",
       "12823                    Appointment Setter For Instagram     2024-02-01   \n",
       "12824                    Appointment Setter For Instagram     2024-03-01   \n",
       "56064                                      Email Designer     2024-02-01   \n",
       "56065                                      Email Designer     2024-03-01   \n",
       "123186  Need Turkish writers that can understand and w...     2024-02-01   \n",
       "123187  Need Turkish writers that can understand and w...     2024-03-01   \n",
       "146667                      Real Estate Virtual Assistant     2024-01-01   \n",
       "146668                      Real Estate Virtual Assistant     2024-02-01   \n",
       "146669                      Real Estate Virtual Assistant     2024-03-01   \n",
       "168889                            Social Media Management     2024-01-01   \n",
       "\n",
       "        post_count  \n",
       "12823            1  \n",
       "12824           24  \n",
       "56064            1  \n",
       "56065           11  \n",
       "123186           1  \n",
       "123187          21  \n",
       "146667           1  \n",
       "146668          11  \n",
       "146669          13  \n",
       "168889           1  "
      ]
     },
     "execution_count": 25,
     "metadata": {},
     "output_type": "execute_result"
    }
   ],
   "source": [
    "top_categories = emerging_category_data.head(10)\n",
    "top_categories"
   ]
  },
  {
   "cell_type": "code",
   "execution_count": 26,
   "id": "eb4b4a02-2442-4a9f-b781-6257563e34ce",
   "metadata": {},
   "outputs": [
    {
     "data": {
      "image/png": "[encoded data removed]",
      "text/plain": [
       "<Figure size 1200x800 with 1 Axes>"
      ]
     },
     "metadata": {},
     "output_type": "display_data"
    }
   ],
   "source": [
    "# Plot Emerging Job Categories\n",
    "plt.figure(figsize=(12, 8))\n",
    "plt.barh(emerging_categories.index, emerging_categories.values, color='skyblue')\n",
    "plt.xlabel('Growth Rate')\n",
    "plt.title('Top Emerging Job Categories')\n",
    "plt.grid(True)\n",
    "plt.tight_layout()\n",
    "plt.show()"
   ]
  },
  {
   "cell_type": "markdown",
   "id": "c87fed39-fa85-4859-9920-c914abf1f055",
   "metadata": {},
   "source": [
    "# Task 3: Forecasting High-Demand Roles"
   ]
  },
  {
   "cell_type": "raw",
   "id": "9083dfd8-e6ec-4818-b83c-37f6b18efa4a",
   "metadata": {},
   "source": [
    "Prepare Data for Forecasting"
   ]
  },
  {
   "cell_type": "code",
   "execution_count": 27,
   "id": "a0274676-3fbb-4b0c-a457-739c07de1b31",
   "metadata": {},
   "outputs": [
    {
     "name": "stderr",
     "output_type": "stream",
     "text": [
      "C:\\Users\\vipin\\AppData\\Local\\Temp\\ipykernel_12160\\1436833030.py:1: UserWarning: Converting to PeriodArray/Index representation will drop timezone information.\n",
      "  role_trends = jobs.groupby(['title', jobs['published_date'].dt.to_period('M')]).size().reset_index(name='post_count')\n"
     ]
    }
   ],
   "source": [
    "role_trends = jobs.groupby(['title', jobs['published_date'].dt.to_period('M')]).size().reset_index(name='post_count')\n",
    "role_trends['published_date'] = role_trends['published_date'].dt.to_timestamp()\n"
   ]
  },
  {
   "cell_type": "code",
   "execution_count": 28,
   "id": "d1d13024-fb51-4158-aa6a-133663290994",
   "metadata": {},
   "outputs": [],
   "source": [
    "role_trends_pivot = role_trends.pivot(index='published_date', columns='title', values='post_count').fillna(0)"
   ]
  },
  {
   "cell_type": "code",
   "execution_count": 29,
   "id": "11a44335-696f-49ac-833a-ae3e25c0d198",
   "metadata": {},
   "outputs": [],
   "source": [
    "job_role = role_trends_pivot.columns[0]\n",
    "role_series = role_trends_pivot[job_role]"
   ]
  },
  {
   "cell_type": "code",
   "execution_count": 30,
   "id": "5f924f32-731a-4b09-beb2-cf77fdcaa97a",
   "metadata": {},
   "outputs": [],
   "source": [
    "train_size = int(len(category_data) * 0.8)\n",
    "train, test = role_series[:train_size], role_series[train_size:]"
   ]
  },
  {
   "cell_type": "markdown",
   "id": "8ae34d26-7a2e-4bc4-b3ec-b3331149f9d6",
   "metadata": {},
   "source": [
    "# Train a Predictive Model"
   ]
  },
  {
   "cell_type": "code",
   "execution_count": 31,
   "id": "749e1ee8-637d-4d99-a5cb-4a1b32852bef",
   "metadata": {},
   "outputs": [
    {
     "name": "stderr",
     "output_type": "stream",
     "text": [
      "c:\\Users\\vipin\\anaconda3\\Lib\\site-packages\\statsmodels\\tsa\\base\\tsa_model.py:473: ValueWarning: No frequency information was provided, so inferred frequency MS will be used.\n",
      "  self._init_dates(dates, freq)\n",
      "c:\\Users\\vipin\\anaconda3\\Lib\\site-packages\\statsmodels\\tsa\\base\\tsa_model.py:473: ValueWarning: No frequency information was provided, so inferred frequency MS will be used.\n",
      "  self._init_dates(dates, freq)\n",
      "c:\\Users\\vipin\\anaconda3\\Lib\\site-packages\\statsmodels\\tsa\\base\\tsa_model.py:473: ValueWarning: No frequency information was provided, so inferred frequency MS will be used.\n",
      "  self._init_dates(dates, freq)\n",
      "c:\\Users\\vipin\\anaconda3\\Lib\\site-packages\\statsmodels\\tsa\\statespace\\sarimax.py:866: UserWarning: Too few observations to estimate starting parameters for ARMA and trend. All parameters except for variances will be set to zeros.\n",
      "  warn('Too few observations to estimate starting parameters%s.'\n",
      "c:\\Users\\vipin\\anaconda3\\Lib\\site-packages\\statsmodels\\base\\model.py:607: ConvergenceWarning: Maximum Likelihood optimization failed to converge. Check mle_retvals\n",
      "  warnings.warn(\"Maximum Likelihood optimization failed to \"\n"
     ]
    }
   ],
   "source": [
    "# ARIMA Modeling\n",
    "model = ARIMA(role_series, order=(5, 1, 0))\n",
    "model_fit = model.fit()"
   ]
  },
  {
   "cell_type": "code",
   "execution_count": 32,
   "id": "06d065fd-06f0-48d5-a9b1-d3ebb7bd1fb3",
   "metadata": {},
   "outputs": [
    {
     "name": "stdout",
     "output_type": "stream",
     "text": [
      "\n",
      "Forecast for Next 12 Months:\n",
      "2024-04-01    0.000096\n",
      "2024-05-01    0.000092\n",
      "2024-06-01    0.999679\n",
      "2024-07-01    0.000142\n",
      "2024-08-01    0.000182\n",
      "2024-09-01    0.000186\n",
      "2024-10-01    0.999357\n",
      "2024-11-01    0.000283\n",
      "2024-12-01    0.000267\n",
      "2025-01-01    0.000281\n",
      "2025-02-01    0.999036\n",
      "2025-03-01    0.000424\n",
      "Freq: MS, Name: predicted_mean, dtype: float64\n"
     ]
    }
   ],
   "source": [
    "# Forecast Next 12 Months\n",
    "forecast = model_fit.forecast(steps=12)\n",
    "print(\"\\nForecast for Next 12 Months:\")\n",
    "print(forecast)"
   ]
  },
  {
   "cell_type": "code",
   "execution_count": 33,
   "id": "9d25335d-a916-494a-8a6e-00fa0bea3ce6",
   "metadata": {},
   "outputs": [
    {
     "name": "stdout",
     "output_type": "stream",
     "text": [
      "RMSE for ! TOP TIER ACCOUNTS! OnlyFans Sellers Wanted !: 0.00018779236509342828\n"
     ]
    }
   ],
   "source": [
    "forecast = model_fit.forecast(steps=len(test))\n",
    "rmse = np.sqrt(mean_squared_error(test, forecast))\n",
    "\n",
    "# Print RMSE\n",
    "print(f\"RMSE for {job_role}: {rmse}\")"
   ]
  },
  {
   "cell_type": "code",
   "execution_count": 34,
   "id": "b08b6225-4255-45a7-bb47-37e5e114f67f",
   "metadata": {},
   "outputs": [
    {
     "name": "stdout",
     "output_type": "stream",
     "text": [
      "12\n"
     ]
    }
   ],
   "source": [
    "forecast = model_fit.forecast(steps=12)  # Ensure it returns 12 forecast values\n",
    "print(len(forecast))  # Should print 12"
   ]
  },
  {
   "cell_type": "code",
   "execution_count": 35,
   "id": "c149c219-c936-4128-8356-d643421ba724",
   "metadata": {},
   "outputs": [
    {
     "name": "stdout",
     "output_type": "stream",
     "text": [
      "DatetimeIndex(['2024-03-31', '2024-04-30', '2024-05-31', '2024-06-30',\n",
      "               '2024-07-31', '2024-08-31', '2024-09-30', '2024-10-31',\n",
      "               '2024-11-30', '2024-12-31', '2025-01-31', '2025-02-28'],\n",
      "              dtype='datetime64[ns]', freq='ME')\n"
     ]
    },
    {
     "name": "stderr",
     "output_type": "stream",
     "text": [
      "C:\\Users\\vipin\\AppData\\Local\\Temp\\ipykernel_12160\\1187693200.py:1: FutureWarning: 'M' is deprecated and will be removed in a future version, please use 'ME' instead.\n",
      "  forecast_dates = pd.date_range(role_series.index[-1], periods=12, freq='M')\n"
     ]
    }
   ],
   "source": [
    "forecast_dates = pd.date_range(role_series.index[-1], periods=12, freq='M')\n",
    "print(forecast_dates)  # Check if it has 12 dates"
   ]
  },
  {
   "cell_type": "code",
   "execution_count": 36,
   "id": "12d40deb-6643-4872-8e6c-d761f1640dc6",
   "metadata": {},
   "outputs": [
    {
     "data": {
      "image/png": "[encoded data removed]",
      "text/plain": [
       "<Figure size 1000x600 with 1 Axes>"
      ]
     },
     "metadata": {},
     "output_type": "display_data"
    }
   ],
   "source": [
    "# Visualize Forecast\n",
    "plt.figure(figsize=(10, 6))\n",
    "plt.plot(role_series.index, role_series, label='Historical Data')\n",
    "plt.plot(forecast_dates, forecast, label='Forecast', color='orange')\n",
    "plt.title(f'Forecast for Job Role: {job_role}')\n",
    "plt.xlabel('Date')\n",
    "plt.ylabel('Post Count')\n",
    "plt.legend()\n",
    "plt.show()\n"
   ]
  },
  {
   "cell_type": "markdown",
   "id": "1eadd8c2-7e6f-43ed-a0e0-db6ea257304a",
   "metadata": {},
   "source": [
    "# Task 4:  Comparative Salary Analysis by Region"
   ]
  },
  {
   "cell_type": "code",
   "execution_count": 37,
   "id": "abe88a4a-6809-4363-a559-41f6fe6241ed",
   "metadata": {},
   "outputs": [
    {
     "name": "stdout",
     "output_type": "stream",
     "text": [
      "          country       budget\n",
      "0   Aland Islands  2000.000000\n",
      "1         Albania   215.670391\n",
      "2         Algeria   109.573248\n",
      "3  American Samoa    72.285714\n",
      "4         Andorra   490.238095\n"
     ]
    }
   ],
   "source": [
    "# Group data by region and compute average salary\n",
    "columns_of_interest = ['country', 'budget']\n",
    "region_salary = jobs[columns_of_interest].groupby('country').mean().reset_index()\n",
    "\n",
    "# Display prepared data\n",
    "print(region_salary.head())\n"
   ]
  },
  {
   "cell_type": "code",
   "execution_count": 38,
   "id": "bd51612c-acdb-4bd7-868c-7a5c0021541e",
   "metadata": {},
   "outputs": [
    {
     "data": {
      "application/vnd.plotly.v1+json": {
       "config": {
        "plotlyServerURL": "https://plot.ly"
       },
       "data": [
        {
         "coloraxis": "coloraxis",
         "geo": "geo",
         "hovertemplate": "country=%{location}<br>budget=%{z}<extra></extra>",
         "locationmode": "country names",
         "locations": [
          "Aland Islands",
          "Albania",
          "Algeria",
          "American Samoa",
          "Andorra",
          "Angola",
          "Anguilla",
          "Antigua and Barbuda",
          "Argentina",
          "Armenia",
          "Aruba",
          "Australia",
          "Austria",
          "Azerbaijan",
          "Bahamas",
          "Bahrain",
          "Bangladesh",
          "Barbados",
          "Belarus",
          "Belgium",
          "Belize",
          "Benin",
          "Bermuda",
          "Bhutan",
          "Bolivia",
          "Bonaire, Sint Eustatius and Saba",
          "Bosnia and Herzegovina",
          "Botswana",
          "Brazil",
          "British Virgin Islands",
          "Brunei Darussalam",
          "Bulgaria",
          "Burkina Faso",
          "Burundi",
          "Cambodia",
          "Cameroon",
          "Canada",
          "Cayman Islands",
          "Central African Republic",
          "Chad",
          "Chile",
          "China",
          "Cocos (Keeling) Islands",
          "Colombia",
          "Comoros",
          "Congo",
          "Congo, the Democratic Republic of the",
          "Cook Islands",
          "Costa Rica",
          "Cote d&#039;Ivoire",
          "Croatia",
          "Curacao",
          "Cyprus",
          "Czech Republic",
          "Denmark",
          "Djibouti",
          "Dominica",
          "Dominican Republic",
          "Ecuador",
          "Egypt",
          "El Salvador",
          "Eritrea",
          "Estonia",
          "Ethiopia",
          "Faroe Islands",
          "Fiji",
          "Finland",
          "France",
          "French Guiana",
          "French Polynesia",
          "Gabon",
          "Gambia",
          "Georgia",
          "Germany",
          "Ghana",
          "Gibraltar",
          "Greece",
          "Greenland",
          "Grenada",
          "Guadeloupe",
          "Guam",
          "Guatemala",
          "Guernsey",
          "Guinea",
          "Guyana",
          "Haiti",
          "Holy See",
          "Honduras",
          "Hong Kong",
          "Hungary",
          "Iceland",
          "India",
          "Indonesia",
          "Ireland",
          "Isle of Man",
          "Israel",
          "Italy",
          "Jamaica",
          "Japan",
          "Jersey",
          "Jordan",
          "Kazakhstan",
          "Kenya",
          "Kiribati",
          "Kuwait",
          "Kyrgyzstan",
          "Laos",
          "Latvia",
          "Lebanon",
          "Liechtenstein",
          "Lithuania",
          "Luxembourg",
          "Macao",
          "Macedonia",
          "Madagascar",
          "Malawi",
          "Malaysia",
          "Maldives",
          "Mali",
          "Malta",
          "Martinique",
          "Mauritania",
          "Mauritius",
          "Mexico",
          "Micronesia, Federated States of",
          "Moldova",
          "Monaco",
          "Mongolia",
          "Montenegro",
          "Morocco",
          "Mozambique",
          "Myanmar",
          "Namibia",
          "Nepal",
          "Netherlands",
          "Netherlands Antilles",
          "New Caledonia",
          "New Zealand",
          "Nicaragua",
          "Niger",
          "Nigeria",
          "Niue",
          "Northern Mariana Islands",
          "Norway",
          "Oman",
          "Pakistan",
          "Palau",
          "Palestinian Territories",
          "Panama",
          "Papua New Guinea",
          "Paraguay",
          "Peru",
          "Philippines",
          "Poland",
          "Portugal",
          "Puerto Rico",
          "Qatar",
          "Reunion",
          "Romania",
          "Russia",
          "Rwanda",
          "Saint Helena",
          "Saint Kitts and Nevis",
          "Saint Lucia",
          "Saint Vincent and the Grenadines",
          "Samoa",
          "San Marino",
          "Saudi Arabia",
          "Senegal",
          "Serbia",
          "Seychelles",
          "Sierra Leone",
          "Singapore",
          "Sint Maarten (Dutch part)",
          "Slovakia",
          "Slovenia",
          "Somalia",
          "South Africa",
          "South Korea",
          "Spain",
          "Sri Lanka",
          "Suriname",
          "Swaziland",
          "Sweden",
          "Switzerland",
          "Taiwan",
          "Tajikistan",
          "Tanzania",
          "Thailand",
          "Timor-Leste",
          "Togo",
          "Trinidad and Tobago",
          "Tunisia",
          "Turkey",
          "Turkmenistan",
          "Turks and Caicos Islands",
          "Tuvalu",
          "Uganda",
          "Ukraine",
          "United Arab Emirates",
          "United Kingdom",
          "United States",
          "United States Minor Outlying Islands",
          "United States Virgin Islands",
          "Unknown",
          "Uruguay",
          "Uzbekistan",
          "Vanuatu",
          "Venezuela",
          "Vietnam",
          "Yemen",
          "Zambia",
          "Zimbabwe"
         ],
         "name": "",
         "type": "choropleth",
         "z": [
          2000,
          215.6703910614525,
          109.5732484076433,
          72.28571428571429,
          490.23809523809524,
          1036.6666666666667,
          84,
          148.3846153846154,
          268.4927536231884,
          780.5384615384615,
          656.8947368421053,
          350.61000158503725,
          199.4381868131868,
          111.8586956521739,
          190.74074074074073,
          157.7921146953405,
          831.8602150537635,
          2084.2,
          504,
          483.3657262277952,
          119.11764705882354,
          102.63157894736842,
          125.25,
          100,
          94.64285714285714,
          316.6666666666667,
          152.54605263157896,
          264.9230769230769,
          262.6846986089644,
          282.0833333333333,
          158.33333333333334,
          267.3388429752066,
          100,
          100,
          294.7962962962963,
          566.76,
          627.8124034997427,
          556.6304347826087,
          100,
          25,
          127.16129032258064,
          412.67640241075566,
          72.5,
          1726.6305609284332,
          100,
          550,
          122.22222222222223,
          100,
          173.31351351351353,
          439.13793103448273,
          272.2307692307692,
          175.35714285714286,
          278.0060606060606,
          1328.034155597723,
          370.2254584681769,
          192.5,
          150,
          375.26751592356686,
          147.47663551401868,
          348.76728971962615,
          148.70967741935485,
          75,
          410.1212121212121,
          204.20792079207922,
          350,
          83.33333333333333,
          248.7891373801917,
          302.0464748656339,
          100,
          129.11764705882354,
          200,
          65,
          267.71253822629967,
          306.53179190751445,
          304.92424242424244,
          544.8275862068965,
          389.34674329501917,
          500,
          114.28571428571429,
          275.7142857142857,
          99.44444444444444,
          164.97368421052633,
          100,
          80,
          66,
          125.9375,
          100,
          773.8620689655172,
          415.96094325718497,
          228.53286384976525,
          236.43835616438355,
          883.7645721503,
          228.73870967741937,
          346.061872909699,
          680.46875,
          253.78770413064362,
          416.2819653824679,
          163.5251798561151,
          232.55374149659863,
          156.8,
          237.28807947019868,
          177.7462686567164,
          287.5664596273292,
          300,
          351,
          157.25925925925927,
          100,
          219.97047970479704,
          241.26903553299493,
          523.3333333333334,
          234.6688596491228,
          219.78313253012047,
          162.5,
          136.0343137254902,
          102.3529411764706,
          844.375,
          476.0675526024363,
          598.6111111111111,
          135,
          216.0940892641737,
          150,
          153.84615384615384,
          404.9342105263158,
          344.39944903581267,
          76.25,
          213.26111111111112,
          150.47619047619048,
          513.9473684210526,
          208.02409638554218,
          268.3122807017544,
          207.33333333333334,
          284.09090909090907,
          181.875,
          273.03592814371257,
          240.95670800450958,
          308.3333333333333,
          280,
          188.87088156723064,
          198.07692307692307,
          100,
          201.45925215723872,
          5,
          100,
          459.33561643835617,
          270.359375,
          274.24607824607824,
          1357.142857142857,
          130.83333333333334,
          256.09375,
          153.63636363636363,
          174.90697674418604,
          522.6492146596859,
          1634.9460016488047,
          195.10091743119267,
          205.84014869888475,
          222.96707818930042,
          231.08253968253968,
          296.34615384615387,
          387.23747016706443,
          299.6875,
          223.7906976744186,
          5,
          127.5,
          107.5,
          78.88888888888889,
          100,
          16.615384615384617,
          284.58323563892145,
          307.5,
          273.4303482587065,
          119.90322580645162,
          254.5,
          300.9240303878449,
          98.13333333333334,
          787.8300970873786,
          238.19844357976655,
          143.28571428571428,
          1226.8494318181818,
          719.2465034965035,
          801.4017467248908,
          259.87030716723547,
          150,
          100,
          2011.0355987055016,
          806.1052631578947,
          247.0310559006211,
          119.375,
          196.46987951807228,
          289.36878453038673,
          100,
          74.22222222222223,
          162.98387096774192,
          155.3581081081081,
          265.13697478991594,
          346.9230769230769,
          100,
          500,
          217.88732394366198,
          308.40349175557714,
          609.9648427828671,
          410.35745991957805,
          361.76125368111065,
          75,
          134.11764705882354,
          521.4784321449675,
          133.82978723404256,
          285.91525423728814,
          100,
          287.59090909090907,
          640.241622574956,
          121.42857142857143,
          337.86764705882354,
          989.078947368421
         ]
        }
       ],
       "layout": {
        "coloraxis": {
         "colorbar": {
          "title": {
           "text": "budget"
          }
         },
         "colorscale": [
          [
           0,
           "#440154"
          ],
          [
           0.1111111111111111,
           "#482878"
          ],
          [
           0.2222222222222222,
           "#3e4989"
          ],
          [
           0.3333333333333333,
           "#31688e"
          ],
          [
           0.4444444444444444,
           "#26828e"
          ],
          [
           0.5555555555555556,
           "#1f9e89"
          ],
          [
           0.6666666666666666,
           "#35b779"
          ],
          [
           0.7777777777777778,
           "#6ece58"
          ],
          [
           0.8888888888888888,
           "#b5de2b"
          ],
          [
           1,
           "#fde725"
          ]
         ]
        },
        "geo": {
         "center": {},
         "domain": {
          "x": [
           0,
           1
          ],
          "y": [
           0,
           1
          ]
         }
        },
        "height": 800,
        "legend": {
         "tracegroupgap": 0
        },
        "template": {
         "data": {
          "bar": [
           {
            "error_x": {
             "color": "#2a3f5f"
            },
            "error_y": {
             "color": "#2a3f5f"
            },
            "marker": {
             "line": {
              "color": "#E5ECF6",
              "width": 0.5
             },
             "pattern": {
              "fillmode": "overlay",
              "size": 10,
              "solidity": 0.2
             }
            },
            "type": "bar"
           }
          ],
          "barpolar": [
           {
            "marker": {
             "line": {
              "color": "#E5ECF6",
              "width": 0.5
             },
             "pattern": {
              "fillmode": "overlay",
              "size": 10,
              "solidity": 0.2
             }
            },
            "type": "barpolar"
           }
          ],
          "carpet": [
           {
            "aaxis": {
             "endlinecolor": "#2a3f5f",
             "gridcolor": "white",
             "linecolor": "white",
             "minorgridcolor": "white",
             "startlinecolor": "#2a3f5f"
            },
            "baxis": {
             "endlinecolor": "#2a3f5f",
             "gridcolor": "white",
             "linecolor": "white",
             "minorgridcolor": "white",
             "startlinecolor": "#2a3f5f"
            },
            "type": "carpet"
           }
          ],
          "choropleth": [
           {
            "colorbar": {
             "outlinewidth": 0,
             "ticks": ""
            },
            "type": "choropleth"
           }
          ],
          "contour": [
           {
            "colorbar": {
             "outlinewidth": 0,
             "ticks": ""
            },
            "colorscale": [
             [
              0,
              "#0d0887"
             ],
             [
              0.1111111111111111,
              "#46039f"
             ],
             [
              0.2222222222222222,
              "#7201a8"
             ],
             [
              0.3333333333333333,
              "#9c179e"
             ],
             [
              0.4444444444444444,
              "#bd3786"
             ],
             [
              0.5555555555555556,
              "#d8576b"
             ],
             [
              0.6666666666666666,
              "#ed7953"
             ],
             [
              0.7777777777777778,
              "#fb9f3a"
             ],
             [
              0.8888888888888888,
              "#fdca26"
             ],
             [
              1,
              "#f0f921"
             ]
            ],
            "type": "contour"
           }
          ],
          "contourcarpet": [
           {
            "colorbar": {
             "outlinewidth": 0,
             "ticks": ""
            },
            "type": "contourcarpet"
           }
          ],
          "heatmap": [
           {
            "colorbar": {
             "outlinewidth": 0,
             "ticks": ""
            },
            "colorscale": [
             [
              0,
              "#0d0887"
             ],
             [
              0.1111111111111111,
              "#46039f"
             ],
             [
              0.2222222222222222,
              "#7201a8"
             ],
             [
              0.3333333333333333,
              "#9c179e"
             ],
             [
              0.4444444444444444,
              "#bd3786"
             ],
             [
              0.5555555555555556,
              "#d8576b"
             ],
             [
              0.6666666666666666,
              "#ed7953"
             ],
             [
              0.7777777777777778,
              "#fb9f3a"
             ],
             [
              0.8888888888888888,
              "#fdca26"
             ],
             [
              1,
              "#f0f921"
             ]
            ],
            "type": "heatmap"
           }
          ],
          "heatmapgl": [
           {
            "colorbar": {
             "outlinewidth": 0,
             "ticks": ""
            },
            "colorscale": [
             [
              0,
              "#0d0887"
             ],
             [
              0.1111111111111111,
              "#46039f"
             ],
             [
              0.2222222222222222,
              "#7201a8"
             ],
             [
              0.3333333333333333,
              "#9c179e"
             ],
             [
              0.4444444444444444,
              "#bd3786"
             ],
             [
              0.5555555555555556,
              "#d8576b"
             ],
             [
              0.6666666666666666,
              "#ed7953"
             ],
             [
              0.7777777777777778,
              "#fb9f3a"
             ],
             [
              0.8888888888888888,
              "#fdca26"
             ],
             [
              1,
              "#f0f921"
             ]
            ],
            "type": "heatmapgl"
           }
          ],
          "histogram": [
           {
            "marker": {
             "pattern": {
              "fillmode": "overlay",
              "size": 10,
              "solidity": 0.2
             }
            },
            "type": "histogram"
           }
          ],
          "histogram2d": [
           {
            "colorbar": {
             "outlinewidth": 0,
             "ticks": ""
            },
            "colorscale": [
             [
              0,
              "#0d0887"
             ],
             [
              0.1111111111111111,
              "#46039f"
             ],
             [
              0.2222222222222222,
              "#7201a8"
             ],
             [
              0.3333333333333333,
              "#9c179e"
             ],
             [
              0.4444444444444444,
              "#bd3786"
             ],
             [
              0.5555555555555556,
              "#d8576b"
             ],
             [
              0.6666666666666666,
              "#ed7953"
             ],
             [
              0.7777777777777778,
              "#fb9f3a"
             ],
             [
              0.8888888888888888,
              "#fdca26"
             ],
             [
              1,
              "#f0f921"
             ]
            ],
            "type": "histogram2d"
           }
          ],
          "histogram2dcontour": [
           {
            "colorbar": {
             "outlinewidth": 0,
             "ticks": ""
            },
            "colorscale": [
             [
              0,
              "#0d0887"
             ],
             [
              0.1111111111111111,
              "#46039f"
             ],
             [
              0.2222222222222222,
              "#7201a8"
             ],
             [
              0.3333333333333333,
              "#9c179e"
             ],
             [
              0.4444444444444444,
              "#bd3786"
             ],
             [
              0.5555555555555556,
              "#d8576b"
             ],
             [
              0.6666666666666666,
              "#ed7953"
             ],
             [
              0.7777777777777778,
              "#fb9f3a"
             ],
             [
              0.8888888888888888,
              "#fdca26"
             ],
             [
              1,
              "#f0f921"
             ]
            ],
            "type": "histogram2dcontour"
           }
          ],
          "mesh3d": [
           {
            "colorbar": {
             "outlinewidth": 0,
             "ticks": ""
            },
            "type": "mesh3d"
           }
          ],
          "parcoords": [
           {
            "line": {
             "colorbar": {
              "outlinewidth": 0,
              "ticks": ""
             }
            },
            "type": "parcoords"
           }
          ],
          "pie": [
           {
            "automargin": true,
            "type": "pie"
           }
          ],
          "scatter": [
           {
            "fillpattern": {
             "fillmode": "overlay",
             "size": 10,
             "solidity": 0.2
            },
            "type": "scatter"
           }
          ],
          "scatter3d": [
           {
            "line": {
             "colorbar": {
              "outlinewidth": 0,
              "ticks": ""
             }
            },
            "marker": {
             "colorbar": {
              "outlinewidth": 0,
              "ticks": ""
             }
            },
            "type": "scatter3d"
           }
          ],
          "scattercarpet": [
           {
            "marker": {
             "colorbar": {
              "outlinewidth": 0,
              "ticks": ""
             }
            },
            "type": "scattercarpet"
           }
          ],
          "scattergeo": [
           {
            "marker": {
             "colorbar": {
              "outlinewidth": 0,
              "ticks": ""
             }
            },
            "type": "scattergeo"
           }
          ],
          "scattergl": [
           {
            "marker": {
             "colorbar": {
              "outlinewidth": 0,
              "ticks": ""
             }
            },
            "type": "scattergl"
           }
          ],
          "scattermapbox": [
           {
            "marker": {
             "colorbar": {
              "outlinewidth": 0,
              "ticks": ""
             }
            },
            "type": "scattermapbox"
           }
          ],
          "scatterpolar": [
           {
            "marker": {
             "colorbar": {
              "outlinewidth": 0,
              "ticks": ""
             }
            },
            "type": "scatterpolar"
           }
          ],
          "scatterpolargl": [
           {
            "marker": {
             "colorbar": {
              "outlinewidth": 0,
              "ticks": ""
             }
            },
            "type": "scatterpolargl"
           }
          ],
          "scatterternary": [
           {
            "marker": {
             "colorbar": {
              "outlinewidth": 0,
              "ticks": ""
             }
            },
            "type": "scatterternary"
           }
          ],
          "surface": [
           {
            "colorbar": {
             "outlinewidth": 0,
             "ticks": ""
            },
            "colorscale": [
             [
              0,
              "#0d0887"
             ],
             [
              0.1111111111111111,
              "#46039f"
             ],
             [
              0.2222222222222222,
              "#7201a8"
             ],
             [
              0.3333333333333333,
              "#9c179e"
             ],
             [
              0.4444444444444444,
              "#bd3786"
             ],
             [
              0.5555555555555556,
              "#d8576b"
             ],
             [
              0.6666666666666666,
              "#ed7953"
             ],
             [
              0.7777777777777778,
              "#fb9f3a"
             ],
             [
              0.8888888888888888,
              "#fdca26"
             ],
             [
              1,
              "#f0f921"
             ]
            ],
            "type": "surface"
           }
          ],
          "table": [
           {
            "cells": {
             "fill": {
              "color": "#EBF0F8"
             },
             "line": {
              "color": "white"
             }
            },
            "header": {
             "fill": {
              "color": "#C8D4E3"
             },
             "line": {
              "color": "white"
             }
            },
            "type": "table"
           }
          ]
         },
         "layout": {
          "annotationdefaults": {
           "arrowcolor": "#2a3f5f",
           "arrowhead": 0,
           "arrowwidth": 1
          },
          "autotypenumbers": "strict",
          "coloraxis": {
           "colorbar": {
            "outlinewidth": 0,
            "ticks": ""
           }
          },
          "colorscale": {
           "diverging": [
            [
             0,
             "#8e0152"
            ],
            [
             0.1,
             "#c51b7d"
            ],
            [
             0.2,
             "#de77ae"
            ],
            [
             0.3,
             "#f1b6da"
            ],
            [
             0.4,
             "#fde0ef"
            ],
            [
             0.5,
             "#f7f7f7"
            ],
            [
             0.6,
             "#e6f5d0"
            ],
            [
             0.7,
             "#b8e186"
            ],
            [
             0.8,
             "#7fbc41"
            ],
            [
             0.9,
             "#4d9221"
            ],
            [
             1,
             "#276419"
            ]
           ],
           "sequential": [
            [
             0,
             "#0d0887"
            ],
            [
             0.1111111111111111,
             "#46039f"
            ],
            [
             0.2222222222222222,
             "#7201a8"
            ],
            [
             0.3333333333333333,
             "#9c179e"
            ],
            [
             0.4444444444444444,
             "#bd3786"
            ],
            [
             0.5555555555555556,
             "#d8576b"
            ],
            [
             0.6666666666666666,
             "#ed7953"
            ],
            [
             0.7777777777777778,
             "#fb9f3a"
            ],
            [
             0.8888888888888888,
             "#fdca26"
            ],
            [
             1,
             "#f0f921"
            ]
           ],
           "sequentialminus": [
            [
             0,
             "#0d0887"
            ],
            [
             0.1111111111111111,
             "#46039f"
            ],
            [
             0.2222222222222222,
             "#7201a8"
            ],
            [
             0.3333333333333333,
             "#9c179e"
            ],
            [
             0.4444444444444444,
             "#bd3786"
            ],
            [
             0.5555555555555556,
             "#d8576b"
            ],
            [
             0.6666666666666666,
             "#ed7953"
            ],
            [
             0.7777777777777778,
             "#fb9f3a"
            ],
            [
             0.8888888888888888,
             "#fdca26"
            ],
            [
             1,
             "#f0f921"
            ]
           ]
          },
          "colorway": [
           "#636efa",
           "#EF553B",
           "#00cc96",
           "#ab63fa",
           "#FFA15A",
           "#19d3f3",
           "#FF6692",
           "#B6E880",
           "#FF97FF",
           "#FECB52"
          ],
          "font": {
           "color": "#2a3f5f"
          },
          "geo": {
           "bgcolor": "white",
           "lakecolor": "white",
           "landcolor": "#E5ECF6",
           "showlakes": true,
           "showland": true,
           "subunitcolor": "white"
          },
          "hoverlabel": {
           "align": "left"
          },
          "hovermode": "closest",
          "mapbox": {
           "style": "light"
          },
          "paper_bgcolor": "white",
          "plot_bgcolor": "#E5ECF6",
          "polar": {
           "angularaxis": {
            "gridcolor": "white",
            "linecolor": "white",
            "ticks": ""
           },
           "bgcolor": "#E5ECF6",
           "radialaxis": {
            "gridcolor": "white",
            "linecolor": "white",
            "ticks": ""
           }
          },
          "scene": {
           "xaxis": {
            "backgroundcolor": "#E5ECF6",
            "gridcolor": "white",
            "gridwidth": 2,
            "linecolor": "white",
            "showbackground": true,
            "ticks": "",
            "zerolinecolor": "white"
           },
           "yaxis": {
            "backgroundcolor": "#E5ECF6",
            "gridcolor": "white",
            "gridwidth": 2,
            "linecolor": "white",
            "showbackground": true,
            "ticks": "",
            "zerolinecolor": "white"
           },
           "zaxis": {
            "backgroundcolor": "#E5ECF6",
            "gridcolor": "white",
            "gridwidth": 2,
            "linecolor": "white",
            "showbackground": true,
            "ticks": "",
            "zerolinecolor": "white"
           }
          },
          "shapedefaults": {
           "line": {
            "color": "#2a3f5f"
           }
          },
          "ternary": {
           "aaxis": {
            "gridcolor": "white",
            "linecolor": "white",
            "ticks": ""
           },
           "baxis": {
            "gridcolor": "white",
            "linecolor": "white",
            "ticks": ""
           },
           "bgcolor": "#E5ECF6",
           "caxis": {
            "gridcolor": "white",
            "linecolor": "white",
            "ticks": ""
           }
          },
          "title": {
           "x": 0.05
          },
          "xaxis": {
           "automargin": true,
           "gridcolor": "white",
           "linecolor": "white",
           "ticks": "",
           "title": {
            "standoff": 15
           },
           "zerolinecolor": "white",
           "zerolinewidth": 2
          },
          "yaxis": {
           "automargin": true,
           "gridcolor": "white",
           "linecolor": "white",
           "ticks": "",
           "title": {
            "standoff": 15
           },
           "zerolinecolor": "white",
           "zerolinewidth": 2
          }
         }
        },
        "title": {
         "text": "Average Salary by Region"
        },
        "width": 1000
       }
      }
     },
     "metadata": {},
     "output_type": "display_data"
    }
   ],
   "source": [
    "import plotly.express as px\n",
    "\n",
    "# Create an interactive map\n",
    "fig = px.choropleth(region_salary, \n",
    "                    locations='country', \n",
    "                    locationmode='country names',\n",
    "                    color='budget',\n",
    "                    title='Average Salary by Region',\n",
    "                    color_continuous_scale='Viridis')\n",
    "\n",
    "fig.update_layout(\n",
    "    width=1000,\n",
    "    height=800,\n",
    ")\n",
    "fig.show()\n"
   ]
  },
  {
   "cell_type": "code",
   "execution_count": 39,
   "id": "81ff251f-b26f-4ec6-9759-fb3e61559113",
   "metadata": {},
   "outputs": [
    {
     "data": {
      "image/png": "[encoded data removed]",
      "text/plain": [
       "<Figure size 1300x600 with 1 Axes>"
      ]
     },
     "metadata": {},
     "output_type": "display_data"
    }
   ],
   "source": [
    "# Bar chart for country salary differences\n",
    "region_salary_sorted = region_salary.sort_values(by='budget', ascending=False)\n",
    "\n",
    "plt.figure(figsize=(13, 6))\n",
    "plt.bar(region_salary_sorted['country'], region_salary_sorted['budget'], color='skyblue')\n",
    "plt.xlabel('country')\n",
    "plt.ylabel('Average Salary')\n",
    "plt.title('Salary Comparison by country')\n",
    "plt.show()\n"
   ]
  },
  {
   "cell_type": "markdown",
   "id": "536098ba-a020-40a5-b24e-15df0ee70e47",
   "metadata": {},
   "source": [
    "# Task 5: Building a Personalized Job Recommendation Engine"
   ]
  },
  {
   "cell_type": "markdown",
   "id": "80859aea-89bd-448a-9d9b-a80c01a4d5d4",
   "metadata": {},
   "source": [
    "# Designing recommendation algorithm"
   ]
  },
  {
   "cell_type": "code",
   "execution_count": 40,
   "id": "e9c63075-6917-479e-aedf-37a519059e3b",
   "metadata": {},
   "outputs": [
    {
     "data": {
      "text/plain": [
       "0         https://www.upwork.com/jobs/Experienced-Media-...\n",
       "1         https://www.upwork.com/jobs/Full-Stack-Develop...\n",
       "2         https://www.upwork.com/jobs/SMMA-Bubble-App_%7...\n",
       "3         https://www.upwork.com/jobs/Talent-Hunter-Spec...\n",
       "4         https://www.upwork.com/jobs/Data-Engineer_%7E0...\n",
       "                                ...                        \n",
       "244823    https://www.upwork.com/jobs/Need-Facebook-adve...\n",
       "244824    https://www.upwork.com/jobs/Digital-Telemarket...\n",
       "244825    https://www.upwork.com/jobs/WordPress-Template...\n",
       "244826    https://www.upwork.com/jobs/ELEMENTOR-PRO-For-...\n",
       "244827    https://www.upwork.com/jobs/Creating-UGC-for-O...\n",
       "Name: combined_features, Length: 244828, dtype: object"
      ]
     },
     "execution_count": 40,
     "metadata": {},
     "output_type": "execute_result"
    }
   ],
   "source": [
    "from sklearn.feature_extraction.text import TfidfVectorizer\n",
    "from sklearn.metrics.pairwise import cosine_similarity\n",
    "\n",
    "# Prepare job descriptions\n",
    "jobs['combined_features'] = jobs['link'] + \" \" + jobs['country'] + \" \" + jobs['title']\n",
    "jobs['combined_features']\n"
   ]
  },
  {
   "cell_type": "code",
   "execution_count": 41,
   "id": "c0e3e95d-9b28-4b03-8950-cfd0b8d27525",
   "metadata": {},
   "outputs": [
    {
     "data": {
      "text/plain": [
       "<244828x298403 sparse matrix of type '<class 'numpy.float64'>'\n",
       "\twith 3794578 stored elements in Compressed Sparse Row format>"
      ]
     },
     "execution_count": 41,
     "metadata": {},
     "output_type": "execute_result"
    }
   ],
   "source": [
    "tfidf = TfidfVectorizer(stop_words='english')\n",
    "tfidf_matrix = tfidf.fit_transform(jobs['combined_features'])\n",
    "tfidf_matrix"
   ]
  },
  {
   "cell_type": "code",
   "execution_count": 42,
   "id": "dcb2cffa-afc9-44d4-baec-7a885be5f64c",
   "metadata": {},
   "outputs": [
    {
     "data": {
      "text/plain": [
       "0         0.000495\n",
       "1         0.001095\n",
       "2         0.000095\n",
       "3         0.000095\n",
       "4         0.000645\n",
       "            ...   \n",
       "244823    0.000095\n",
       "244824    0.000095\n",
       "244825    0.000095\n",
       "244826    0.000010\n",
       "244827    0.000045\n",
       "Name: normalized_salary, Length: 244828, dtype: float64"
      ]
     },
     "execution_count": 42,
     "metadata": {},
     "output_type": "execute_result"
    }
   ],
   "source": [
    "# Normalize salary for scoring\n",
    "jobs['normalized_salary'] = (jobs['budget'] - jobs['budget'].min()) / (jobs['budget'].max() - jobs['budget'].min())\n",
    "jobs['normalized_salary']"
   ]
  },
  {
   "cell_type": "markdown",
   "id": "b4b3646b-818b-45d1-9854-38785196328f",
   "metadata": {},
   "source": [
    "# Recommendation Function"
   ]
  },
  {
   "cell_type": "code",
   "execution_count": 43,
   "id": "c4f85e7f-546c-4ac3-89e3-2127d65849ea",
   "metadata": {},
   "outputs": [],
   "source": [
    "def recommend_jobs(preferences, num_recommendations=5):\n",
    "\n",
    "    query = \" \".join(preferences.values())\n",
    "    query_vec = tfidf.transform([query])\n",
    "    \n",
    "    similarity_scores = cosine_similarity(query_vec, tfidf_matrix).flatten()\n",
    "\n",
    "    scores = similarity_scores + jobs['normalized_salary']\n",
    "\n",
    "    top_indices = scores.argsort()[-num_recommendations:][::-1]\n",
    "    recommended_jobs = jobs.iloc[top_indices]\n",
    "\n",
    "    return recommended_jobs[['job_title', 'location', 'salary', 'job_category']]\n"
   ]
  },
  {
   "cell_type": "code",
   "execution_count": 44,
   "id": "c265ed7a-60ca-494a-9c3a-9e1168009dea",
   "metadata": {},
   "outputs": [],
   "source": [
    "def recommend_jobs(preferences, jobs):\n",
    "    filtered_data = jobs[\n",
    "        (jobs['title'].str.contains(preferences['title'], na=False)) &\n",
    "        (jobs['country'] == preferences['country']) &\n",
    "        (jobs['budget'] >= preferences['budget'])\n",
    "    ]\n",
    "    return filtered_data"
   ]
  },
  {
   "cell_type": "code",
   "execution_count": 45,
   "id": "44f24e3e-3b1f-4766-bbdd-18e543a15a6e",
   "metadata": {},
   "outputs": [],
   "source": [
    "user_preferences = {'title': 'Python', 'country': 'Remote', 'budget': 60000}\n",
    "recommendations = recommend_jobs(user_preferences, jobs)"
   ]
  },
  {
   "cell_type": "code",
   "execution_count": 46,
   "id": "f15ffd40-2adb-4a75-be6b-5eab80ce8395",
   "metadata": {},
   "outputs": [
    {
     "name": "stderr",
     "output_type": "stream",
     "text": [
      "2025-01-14 13:33:48.041 \n",
      "  \u001b[33m\u001b[1mWarning:\u001b[0m to view this Streamlit app on a browser, run it with the following\n",
      "  command:\n",
      "\n",
      "    streamlit run C:\\Users\\vipin\\AppData\\Roaming\\Python\\Python312\\site-packages\\ipykernel_launcher.py [ARGUMENTS]\n"
     ]
    },
    {
     "data": {
      "text/plain": [
       "DeltaGenerator()"
      ]
     },
     "execution_count": 46,
     "metadata": {},
     "output_type": "execute_result"
    }
   ],
   "source": [
    "# Display recommendations\n",
    "import streamlit as st\n",
    "\n",
    "st.table(recommendations[['title', 'country', 'budget']])"
   ]
  },
  {
   "cell_type": "markdown",
   "id": "e153f7de-74dd-4ecd-893f-0b98b674a3b0",
   "metadata": {},
   "source": [
    "# Task 6: Monitoring Workforce Dynamics"
   ]
  },
  {
   "cell_type": "code",
   "execution_count": 47,
   "id": "2d27fd56-fd37-4efd-8ced-9291cad7eb95",
   "metadata": {},
   "outputs": [
    {
     "name": "stderr",
     "output_type": "stream",
     "text": [
      "C:\\Users\\vipin\\AppData\\Local\\Temp\\ipykernel_12160\\3391110045.py:2: UserWarning:\n",
      "\n",
      "Converting to PeriodArray/Index representation will drop timezone information.\n",
      "\n"
     ]
    }
   ],
   "source": [
    "# Monthly insights: Job categories over time\n",
    "monthly_trends = jobs.groupby([jobs['published_date'].dt.to_period('M'), 'title']).size().unstack(fill_value=0)\n",
    "\n"
   ]
  },
  {
   "cell_type": "code",
   "execution_count": 48,
   "id": "12d4c635-34bb-4ce6-a04c-ae32fbe161b3",
   "metadata": {},
   "outputs": [],
   "source": [
    "# Visualize workforce dynamics\n",
    "#fig = px.line(monthly_trends, x=monthly_trends.index, y=monthly_trends.columns, title=\"Job Market Dynamics\")\n",
    "#st.plotly_chart(fig)"
   ]
  },
  {
   "cell_type": "markdown",
   "id": "2a001960-15ef-4225-bffd-6841bc555f18",
   "metadata": {},
   "source": [
    "# Task 7: Remote Work Landscape Analysis"
   ]
  },
  {
   "cell_type": "code",
   "execution_count": 49,
   "id": "bca23412-7b19-4e94-b2cf-eb5d0a116d50",
   "metadata": {},
   "outputs": [],
   "source": [
    "# Filter for remote jobs\n",
    "remote_jobs = jobs[jobs['title'].str.contains('remote', case=False, na=False)]"
   ]
  },
  {
   "cell_type": "code",
   "execution_count": 50,
   "id": "5d5167fe-c37a-4343-9a36-d1174cf2fa00",
   "metadata": {},
   "outputs": [
    {
     "name": "stderr",
     "output_type": "stream",
     "text": [
      "C:\\Users\\vipin\\AppData\\Local\\Temp\\ipykernel_12160\\408051996.py:2: UserWarning:\n",
      "\n",
      "Converting to PeriodArray/Index representation will drop timezone information.\n",
      "\n"
     ]
    }
   ],
   "source": [
    "# Analyze growth of remote jobs\n",
    "remote_trends = remote_jobs.groupby(remote_jobs['published_date'].dt.to_period('M')).size()"
   ]
  },
  {
   "cell_type": "code",
   "execution_count": 51,
   "id": "6837cfc7-2d05-4cc7-bceb-ccaa8c94d702",
   "metadata": {},
   "outputs": [
    {
     "data": {
      "image/png": "[encoded data removed]",
      "text/plain": [
       "<Figure size 1000x600 with 1 Axes>"
      ]
     },
     "metadata": {},
     "output_type": "display_data"
    }
   ],
   "source": [
    "# Visualize trends\n",
    "plt.figure(figsize=(10, 6))\n",
    "plt.plot(remote_trends.index.to_timestamp(), remote_trends, label='Remote Jobs Growth', color='green')\n",
    "plt.title('Remote Work Trends Over Time')\n",
    "plt.xlabel('Date')\n",
    "plt.ylabel('Number of Remote Jobs')\n",
    "plt.legend()\n",
    "plt.show()"
   ]
  },
  {
   "cell_type": "markdown",
   "id": "7684d526-8803-4d23-af54-8da10046bb6e",
   "metadata": {},
   "source": [
    "# Task 8: Predicting Future Workforce Trends"
   ]
  },
  {
   "cell_type": "code",
   "execution_count": 52,
   "id": "4bb1ce8b-dc4a-4406-ae3d-7ed9bd51e537",
   "metadata": {},
   "outputs": [],
   "source": [
    "# High-growth roles prediction using linear regression\n",
    "category_trends_numeric = category_trends.drop(columns=['published_date'])\n",
    "\n",
    "category_trends_numeric['post_count'] = pd.to_numeric(category_trends_numeric['post_count'], errors='coerce').fillna(0)\n",
    "\n",
    "category_trends_numeric = category_trends_numeric.apply(pd.to_numeric, errors='coerce').fillna(0)\n",
    "\n",
    "growth_data = category_trends_numeric.diff(axis=1).fillna(0).T\n",
    "X = np.arange(len(growth_data)).reshape(-1, 1)\n",
    "future_steps = np.arange(len(growth_data), len(growth_data) + 12).reshape(-1, 1)"
   ]
  },
  {
   "cell_type": "code",
   "execution_count": 53,
   "id": "17b10e1a-dd6f-4081-9000-5bc4deb77c2f",
   "metadata": {},
   "outputs": [],
   "source": [
    "from sklearn.linear_model import LinearRegression\n",
    "\n",
    "predictions = {}\n",
    "for category in growth_data.columns:\n",
    "    model = LinearRegression()\n",
    "    model.fit(X, growth_data[category])\n",
    "    predictions[category] = model.predict(future_steps)"
   ]
  },
  {
   "cell_type": "code",
   "execution_count": null,
   "id": "7d7bf4ed-e462-4204-b27a-e0d859841bd2",
   "metadata": {},
   "outputs": [
    {
     "ename": "ValueError",
     "evalue": "Image size of 995x4417318 pixels is too large. It must be less than 2^16 in each direction.",
     "output_type": "error",
     "traceback": [
      "\u001b[1;31m---------------------------------------------------------------------------\u001b[0m",
      "\u001b[1;31mValueError\u001b[0m                                Traceback (most recent call last)",
      "File \u001b[1;32m~\\AppData\\Roaming\\Python\\Python312\\site-packages\\IPython\\core\\formatters.py:402\u001b[0m, in \u001b[0;36mBaseFormatter.__call__\u001b[1;34m(self, obj)\u001b[0m\n\u001b[0;32m    400\u001b[0m     \u001b[38;5;28;01mpass\u001b[39;00m\n\u001b[0;32m    401\u001b[0m \u001b[38;5;28;01melse\u001b[39;00m:\n\u001b[1;32m--> 402\u001b[0m     \u001b[38;5;28;01mreturn\u001b[39;00m \u001b[43mprinter\u001b[49m\u001b[43m(\u001b[49m\u001b[43mobj\u001b[49m\u001b[43m)\u001b[49m\n\u001b[0;32m    403\u001b[0m \u001b[38;5;66;03m# Finally look for special method names\u001b[39;00m\n\u001b[0;32m    404\u001b[0m method \u001b[38;5;241m=\u001b[39m get_real_method(obj, \u001b[38;5;28mself\u001b[39m\u001b[38;5;241m.\u001b[39mprint_method)\n",
      "File \u001b[1;32m~\\AppData\\Roaming\\Python\\Python312\\site-packages\\IPython\\core\\pylabtools.py:170\u001b[0m, in \u001b[0;36mprint_figure\u001b[1;34m(fig, fmt, bbox_inches, base64, **kwargs)\u001b[0m\n\u001b[0;32m    167\u001b[0m     \u001b[38;5;28;01mfrom\u001b[39;00m\u001b[38;5;250m \u001b[39m\u001b[38;5;21;01mmatplotlib\u001b[39;00m\u001b[38;5;21;01m.\u001b[39;00m\u001b[38;5;21;01mbackend_bases\u001b[39;00m\u001b[38;5;250m \u001b[39m\u001b[38;5;28;01mimport\u001b[39;00m FigureCanvasBase\n\u001b[0;32m    168\u001b[0m     FigureCanvasBase(fig)\n\u001b[1;32m--> 170\u001b[0m \u001b[43mfig\u001b[49m\u001b[38;5;241;43m.\u001b[39;49m\u001b[43mcanvas\u001b[49m\u001b[38;5;241;43m.\u001b[39;49m\u001b[43mprint_figure\u001b[49m\u001b[43m(\u001b[49m\u001b[43mbytes_io\u001b[49m\u001b[43m,\u001b[49m\u001b[43m \u001b[49m\u001b[38;5;241;43m*\u001b[39;49m\u001b[38;5;241;43m*\u001b[39;49m\u001b[43mkw\u001b[49m\u001b[43m)\u001b[49m\n\u001b[0;32m    171\u001b[0m data \u001b[38;5;241m=\u001b[39m bytes_io\u001b[38;5;241m.\u001b[39mgetvalue()\n\u001b[0;32m    172\u001b[0m \u001b[38;5;28;01mif\u001b[39;00m fmt \u001b[38;5;241m==\u001b[39m \u001b[38;5;124m'\u001b[39m\u001b[38;5;124msvg\u001b[39m\u001b[38;5;124m'\u001b[39m:\n",
      "File \u001b[1;32mc:\\Users\\vipin\\anaconda3\\Lib\\site-packages\\matplotlib\\backend_bases.py:2193\u001b[0m, in \u001b[0;36mFigureCanvasBase.print_figure\u001b[1;34m(self, filename, dpi, facecolor, edgecolor, orientation, format, bbox_inches, pad_inches, bbox_extra_artists, backend, **kwargs)\u001b[0m\n\u001b[0;32m   2189\u001b[0m \u001b[38;5;28;01mtry\u001b[39;00m:\n\u001b[0;32m   2190\u001b[0m     \u001b[38;5;66;03m# _get_renderer may change the figure dpi (as vector formats\u001b[39;00m\n\u001b[0;32m   2191\u001b[0m     \u001b[38;5;66;03m# force the figure dpi to 72), so we need to set it again here.\u001b[39;00m\n\u001b[0;32m   2192\u001b[0m     \u001b[38;5;28;01mwith\u001b[39;00m cbook\u001b[38;5;241m.\u001b[39m_setattr_cm(\u001b[38;5;28mself\u001b[39m\u001b[38;5;241m.\u001b[39mfigure, dpi\u001b[38;5;241m=\u001b[39mdpi):\n\u001b[1;32m-> 2193\u001b[0m         result \u001b[38;5;241m=\u001b[39m \u001b[43mprint_method\u001b[49m\u001b[43m(\u001b[49m\n\u001b[0;32m   2194\u001b[0m \u001b[43m            \u001b[49m\u001b[43mfilename\u001b[49m\u001b[43m,\u001b[49m\n\u001b[0;32m   2195\u001b[0m \u001b[43m            \u001b[49m\u001b[43mfacecolor\u001b[49m\u001b[38;5;241;43m=\u001b[39;49m\u001b[43mfacecolor\u001b[49m\u001b[43m,\u001b[49m\n\u001b[0;32m   2196\u001b[0m \u001b[43m            \u001b[49m\u001b[43medgecolor\u001b[49m\u001b[38;5;241;43m=\u001b[39;49m\u001b[43medgecolor\u001b[49m\u001b[43m,\u001b[49m\n\u001b[0;32m   2197\u001b[0m \u001b[43m            \u001b[49m\u001b[43morientation\u001b[49m\u001b[38;5;241;43m=\u001b[39;49m\u001b[43morientation\u001b[49m\u001b[43m,\u001b[49m\n\u001b[0;32m   2198\u001b[0m \u001b[43m            \u001b[49m\u001b[43mbbox_inches_restore\u001b[49m\u001b[38;5;241;43m=\u001b[39;49m\u001b[43m_bbox_inches_restore\u001b[49m\u001b[43m,\u001b[49m\n\u001b[0;32m   2199\u001b[0m \u001b[43m            \u001b[49m\u001b[38;5;241;43m*\u001b[39;49m\u001b[38;5;241;43m*\u001b[39;49m\u001b[43mkwargs\u001b[49m\u001b[43m)\u001b[49m\n\u001b[0;32m   2200\u001b[0m \u001b[38;5;28;01mfinally\u001b[39;00m:\n\u001b[0;32m   2201\u001b[0m     \u001b[38;5;28;01mif\u001b[39;00m bbox_inches \u001b[38;5;129;01mand\u001b[39;00m restore_bbox:\n",
      "File \u001b[1;32mc:\\Users\\vipin\\anaconda3\\Lib\\site-packages\\matplotlib\\backend_bases.py:2043\u001b[0m, in \u001b[0;36mFigureCanvasBase._switch_canvas_and_return_print_method.<locals>.<lambda>\u001b[1;34m(*args, **kwargs)\u001b[0m\n\u001b[0;32m   2039\u001b[0m     optional_kws \u001b[38;5;241m=\u001b[39m {  \u001b[38;5;66;03m# Passed by print_figure for other renderers.\u001b[39;00m\n\u001b[0;32m   2040\u001b[0m         \u001b[38;5;124m\"\u001b[39m\u001b[38;5;124mdpi\u001b[39m\u001b[38;5;124m\"\u001b[39m, \u001b[38;5;124m\"\u001b[39m\u001b[38;5;124mfacecolor\u001b[39m\u001b[38;5;124m\"\u001b[39m, \u001b[38;5;124m\"\u001b[39m\u001b[38;5;124medgecolor\u001b[39m\u001b[38;5;124m\"\u001b[39m, \u001b[38;5;124m\"\u001b[39m\u001b[38;5;124morientation\u001b[39m\u001b[38;5;124m\"\u001b[39m,\n\u001b[0;32m   2041\u001b[0m         \u001b[38;5;124m\"\u001b[39m\u001b[38;5;124mbbox_inches_restore\u001b[39m\u001b[38;5;124m\"\u001b[39m}\n\u001b[0;32m   2042\u001b[0m     skip \u001b[38;5;241m=\u001b[39m optional_kws \u001b[38;5;241m-\u001b[39m {\u001b[38;5;241m*\u001b[39minspect\u001b[38;5;241m.\u001b[39msignature(meth)\u001b[38;5;241m.\u001b[39mparameters}\n\u001b[1;32m-> 2043\u001b[0m     print_method \u001b[38;5;241m=\u001b[39m functools\u001b[38;5;241m.\u001b[39mwraps(meth)(\u001b[38;5;28;01mlambda\u001b[39;00m \u001b[38;5;241m*\u001b[39margs, \u001b[38;5;241m*\u001b[39m\u001b[38;5;241m*\u001b[39mkwargs: \u001b[43mmeth\u001b[49m\u001b[43m(\u001b[49m\n\u001b[0;32m   2044\u001b[0m \u001b[43m        \u001b[49m\u001b[38;5;241;43m*\u001b[39;49m\u001b[43margs\u001b[49m\u001b[43m,\u001b[49m\u001b[43m \u001b[49m\u001b[38;5;241;43m*\u001b[39;49m\u001b[38;5;241;43m*\u001b[39;49m\u001b[43m{\u001b[49m\u001b[43mk\u001b[49m\u001b[43m:\u001b[49m\u001b[43m \u001b[49m\u001b[43mv\u001b[49m\u001b[43m \u001b[49m\u001b[38;5;28;43;01mfor\u001b[39;49;00m\u001b[43m \u001b[49m\u001b[43mk\u001b[49m\u001b[43m,\u001b[49m\u001b[43m \u001b[49m\u001b[43mv\u001b[49m\u001b[43m \u001b[49m\u001b[38;5;129;43;01min\u001b[39;49;00m\u001b[43m \u001b[49m\u001b[43mkwargs\u001b[49m\u001b[38;5;241;43m.\u001b[39;49m\u001b[43mitems\u001b[49m\u001b[43m(\u001b[49m\u001b[43m)\u001b[49m\u001b[43m \u001b[49m\u001b[38;5;28;43;01mif\u001b[39;49;00m\u001b[43m \u001b[49m\u001b[43mk\u001b[49m\u001b[43m \u001b[49m\u001b[38;5;129;43;01mnot\u001b[39;49;00m\u001b[43m \u001b[49m\u001b[38;5;129;43;01min\u001b[39;49;00m\u001b[43m \u001b[49m\u001b[43mskip\u001b[49m\u001b[43m}\u001b[49m\u001b[43m)\u001b[49m)\n\u001b[0;32m   2045\u001b[0m \u001b[38;5;28;01melse\u001b[39;00m:  \u001b[38;5;66;03m# Let third-parties do as they see fit.\u001b[39;00m\n\u001b[0;32m   2046\u001b[0m     print_method \u001b[38;5;241m=\u001b[39m meth\n",
      "File \u001b[1;32mc:\\Users\\vipin\\anaconda3\\Lib\\site-packages\\matplotlib\\backends\\backend_agg.py:497\u001b[0m, in \u001b[0;36mFigureCanvasAgg.print_png\u001b[1;34m(self, filename_or_obj, metadata, pil_kwargs)\u001b[0m\n\u001b[0;32m    450\u001b[0m \u001b[38;5;28;01mdef\u001b[39;00m\u001b[38;5;250m \u001b[39m\u001b[38;5;21mprint_png\u001b[39m(\u001b[38;5;28mself\u001b[39m, filename_or_obj, \u001b[38;5;241m*\u001b[39m, metadata\u001b[38;5;241m=\u001b[39m\u001b[38;5;28;01mNone\u001b[39;00m, pil_kwargs\u001b[38;5;241m=\u001b[39m\u001b[38;5;28;01mNone\u001b[39;00m):\n\u001b[0;32m    451\u001b[0m \u001b[38;5;250m    \u001b[39m\u001b[38;5;124;03m\"\"\"\u001b[39;00m\n\u001b[0;32m    452\u001b[0m \u001b[38;5;124;03m    Write the figure to a PNG file.\u001b[39;00m\n\u001b[0;32m    453\u001b[0m \n\u001b[1;32m   (...)\u001b[0m\n\u001b[0;32m    495\u001b[0m \u001b[38;5;124;03m        *metadata*, including the default 'Software' key.\u001b[39;00m\n\u001b[0;32m    496\u001b[0m \u001b[38;5;124;03m    \"\"\"\u001b[39;00m\n\u001b[1;32m--> 497\u001b[0m     \u001b[38;5;28;43mself\u001b[39;49m\u001b[38;5;241;43m.\u001b[39;49m\u001b[43m_print_pil\u001b[49m\u001b[43m(\u001b[49m\u001b[43mfilename_or_obj\u001b[49m\u001b[43m,\u001b[49m\u001b[43m \u001b[49m\u001b[38;5;124;43m\"\u001b[39;49m\u001b[38;5;124;43mpng\u001b[39;49m\u001b[38;5;124;43m\"\u001b[39;49m\u001b[43m,\u001b[49m\u001b[43m \u001b[49m\u001b[43mpil_kwargs\u001b[49m\u001b[43m,\u001b[49m\u001b[43m \u001b[49m\u001b[43mmetadata\u001b[49m\u001b[43m)\u001b[49m\n",
      "File \u001b[1;32mc:\\Users\\vipin\\anaconda3\\Lib\\site-packages\\matplotlib\\backends\\backend_agg.py:445\u001b[0m, in \u001b[0;36mFigureCanvasAgg._print_pil\u001b[1;34m(self, filename_or_obj, fmt, pil_kwargs, metadata)\u001b[0m\n\u001b[0;32m    440\u001b[0m \u001b[38;5;28;01mdef\u001b[39;00m\u001b[38;5;250m \u001b[39m\u001b[38;5;21m_print_pil\u001b[39m(\u001b[38;5;28mself\u001b[39m, filename_or_obj, fmt, pil_kwargs, metadata\u001b[38;5;241m=\u001b[39m\u001b[38;5;28;01mNone\u001b[39;00m):\n\u001b[0;32m    441\u001b[0m \u001b[38;5;250m    \u001b[39m\u001b[38;5;124;03m\"\"\"\u001b[39;00m\n\u001b[0;32m    442\u001b[0m \u001b[38;5;124;03m    Draw the canvas, then save it using `.image.imsave` (to which\u001b[39;00m\n\u001b[0;32m    443\u001b[0m \u001b[38;5;124;03m    *pil_kwargs* and *metadata* are forwarded).\u001b[39;00m\n\u001b[0;32m    444\u001b[0m \u001b[38;5;124;03m    \"\"\"\u001b[39;00m\n\u001b[1;32m--> 445\u001b[0m     \u001b[43mFigureCanvasAgg\u001b[49m\u001b[38;5;241;43m.\u001b[39;49m\u001b[43mdraw\u001b[49m\u001b[43m(\u001b[49m\u001b[38;5;28;43mself\u001b[39;49m\u001b[43m)\u001b[49m\n\u001b[0;32m    446\u001b[0m     mpl\u001b[38;5;241m.\u001b[39mimage\u001b[38;5;241m.\u001b[39mimsave(\n\u001b[0;32m    447\u001b[0m         filename_or_obj, \u001b[38;5;28mself\u001b[39m\u001b[38;5;241m.\u001b[39mbuffer_rgba(), \u001b[38;5;28mformat\u001b[39m\u001b[38;5;241m=\u001b[39mfmt, origin\u001b[38;5;241m=\u001b[39m\u001b[38;5;124m\"\u001b[39m\u001b[38;5;124mupper\u001b[39m\u001b[38;5;124m\"\u001b[39m,\n\u001b[0;32m    448\u001b[0m         dpi\u001b[38;5;241m=\u001b[39m\u001b[38;5;28mself\u001b[39m\u001b[38;5;241m.\u001b[39mfigure\u001b[38;5;241m.\u001b[39mdpi, metadata\u001b[38;5;241m=\u001b[39mmetadata, pil_kwargs\u001b[38;5;241m=\u001b[39mpil_kwargs)\n",
      "File \u001b[1;32mc:\\Users\\vipin\\anaconda3\\Lib\\site-packages\\matplotlib\\backends\\backend_agg.py:383\u001b[0m, in \u001b[0;36mFigureCanvasAgg.draw\u001b[1;34m(self)\u001b[0m\n\u001b[0;32m    381\u001b[0m \u001b[38;5;28;01mdef\u001b[39;00m\u001b[38;5;250m \u001b[39m\u001b[38;5;21mdraw\u001b[39m(\u001b[38;5;28mself\u001b[39m):\n\u001b[0;32m    382\u001b[0m     \u001b[38;5;66;03m# docstring inherited\u001b[39;00m\n\u001b[1;32m--> 383\u001b[0m     \u001b[38;5;28mself\u001b[39m\u001b[38;5;241m.\u001b[39mrenderer \u001b[38;5;241m=\u001b[39m \u001b[38;5;28;43mself\u001b[39;49m\u001b[38;5;241;43m.\u001b[39;49m\u001b[43mget_renderer\u001b[49m\u001b[43m(\u001b[49m\u001b[43m)\u001b[49m\n\u001b[0;32m    384\u001b[0m     \u001b[38;5;28mself\u001b[39m\u001b[38;5;241m.\u001b[39mrenderer\u001b[38;5;241m.\u001b[39mclear()\n\u001b[0;32m    385\u001b[0m     \u001b[38;5;66;03m# Acquire a lock on the shared font cache.\u001b[39;00m\n",
      "File \u001b[1;32mc:\\Users\\vipin\\anaconda3\\Lib\\site-packages\\matplotlib\\backends\\backend_agg.py:398\u001b[0m, in \u001b[0;36mFigureCanvasAgg.get_renderer\u001b[1;34m(self)\u001b[0m\n\u001b[0;32m    396\u001b[0m reuse_renderer \u001b[38;5;241m=\u001b[39m (\u001b[38;5;28mself\u001b[39m\u001b[38;5;241m.\u001b[39m_lastKey \u001b[38;5;241m==\u001b[39m key)\n\u001b[0;32m    397\u001b[0m \u001b[38;5;28;01mif\u001b[39;00m \u001b[38;5;129;01mnot\u001b[39;00m reuse_renderer:\n\u001b[1;32m--> 398\u001b[0m     \u001b[38;5;28mself\u001b[39m\u001b[38;5;241m.\u001b[39mrenderer \u001b[38;5;241m=\u001b[39m \u001b[43mRendererAgg\u001b[49m\u001b[43m(\u001b[49m\u001b[43mw\u001b[49m\u001b[43m,\u001b[49m\u001b[43m \u001b[49m\u001b[43mh\u001b[49m\u001b[43m,\u001b[49m\u001b[43m \u001b[49m\u001b[38;5;28;43mself\u001b[39;49m\u001b[38;5;241;43m.\u001b[39;49m\u001b[43mfigure\u001b[49m\u001b[38;5;241;43m.\u001b[39;49m\u001b[43mdpi\u001b[49m\u001b[43m)\u001b[49m\n\u001b[0;32m    399\u001b[0m     \u001b[38;5;28mself\u001b[39m\u001b[38;5;241m.\u001b[39m_lastKey \u001b[38;5;241m=\u001b[39m key\n\u001b[0;32m    400\u001b[0m \u001b[38;5;28;01mreturn\u001b[39;00m \u001b[38;5;28mself\u001b[39m\u001b[38;5;241m.\u001b[39mrenderer\n",
      "File \u001b[1;32mc:\\Users\\vipin\\anaconda3\\Lib\\site-packages\\matplotlib\\backends\\backend_agg.py:70\u001b[0m, in \u001b[0;36mRendererAgg.__init__\u001b[1;34m(self, width, height, dpi)\u001b[0m\n\u001b[0;32m     68\u001b[0m \u001b[38;5;28mself\u001b[39m\u001b[38;5;241m.\u001b[39mwidth \u001b[38;5;241m=\u001b[39m width\n\u001b[0;32m     69\u001b[0m \u001b[38;5;28mself\u001b[39m\u001b[38;5;241m.\u001b[39mheight \u001b[38;5;241m=\u001b[39m height\n\u001b[1;32m---> 70\u001b[0m \u001b[38;5;28mself\u001b[39m\u001b[38;5;241m.\u001b[39m_renderer \u001b[38;5;241m=\u001b[39m \u001b[43m_RendererAgg\u001b[49m\u001b[43m(\u001b[49m\u001b[38;5;28;43mint\u001b[39;49m\u001b[43m(\u001b[49m\u001b[43mwidth\u001b[49m\u001b[43m)\u001b[49m\u001b[43m,\u001b[49m\u001b[43m \u001b[49m\u001b[38;5;28;43mint\u001b[39;49m\u001b[43m(\u001b[49m\u001b[43mheight\u001b[49m\u001b[43m)\u001b[49m\u001b[43m,\u001b[49m\u001b[43m \u001b[49m\u001b[43mdpi\u001b[49m\u001b[43m)\u001b[49m\n\u001b[0;32m     71\u001b[0m \u001b[38;5;28mself\u001b[39m\u001b[38;5;241m.\u001b[39m_filter_renderers \u001b[38;5;241m=\u001b[39m []\n\u001b[0;32m     73\u001b[0m \u001b[38;5;28mself\u001b[39m\u001b[38;5;241m.\u001b[39m_update_methods()\n",
      "\u001b[1;31mValueError\u001b[0m: Image size of 995x4417318 pixels is too large. It must be less than 2^16 in each direction."
     ]
    },
    {
     "data": {
      "text/plain": [
       "<Figure size 1200x600 with 1 Axes>"
      ]
     },
     "metadata": {},
     "output_type": "display_data"
    },
    {
     "ename": "",
     "evalue": "",
     "output_type": "error",
     "traceback": [
      "\u001b[1;31mThe Kernel crashed while executing code in the current cell or a previous cell. \n",
      "\u001b[1;31mPlease review the code in the cell(s) to identify a possible cause of the failure. \n",
      "\u001b[1;31mClick <a href='https://aka.ms/vscodeJupyterKernelCrash'>here</a> for more info. \n",
      "\u001b[1;31mView Jupyter <a href='command:jupyter.viewOutput'>log</a> for further details."
     ]
    }
   ],
   "source": [
    "# Visualize predictions\n",
    "predicted_df = pd.DataFrame(predictions, index=pd.date_range(start=role_trends.index[-1], periods=12, freq='ME'))\n",
    "predicted_df.plot(kind='line', figsize=(12, 6), title=\"Predicted High-Growth Roles\")\n",
    "plt.show()"
   ]
  },
  {
   "cell_type": "code",
   "execution_count": null,
   "id": "b7eda4f3-5a24-4503-aeca-63374c2cc9f5",
   "metadata": {},
   "outputs": [],
   "source": []
  }
 ],
 "metadata": {
  "kernelspec": {
   "display_name": "base",
   "language": "python",
   "name": "python3"
  },
  "language_info": {
   "codemirror_mode": {
    "name": "ipython",
    "version": 3
   },
   "file_extension": ".py",
   "mimetype": "text/x-python",
   "name": "python",
   "nbconvert_exporter": "python",
   "pygments_lexer": "ipython3",
   "version": "3.12.4"
  }
 },
 "nbformat": 4,
 "nbformat_minor": 5
}
